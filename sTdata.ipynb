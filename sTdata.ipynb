{
 "cells": [
  {
   "cell_type": "markdown",
   "id": "0",
   "metadata": {
    "id": "GI2JSxxeE_JK"
   },
   "source": [
    "# Space Titanic: Predicting Survival in a Cosmic Catastrophe\n",
    "\n",
    "## Project Overview\n",
    "\n",
    "The \"Space Titanic\" project is a machine learning challenge inspired by the Titanic survival prediction problem, but set in a futuristic space travel scenario. The goal is to predict the survival chances of passengers on a space voyage based on various features, simulating a cosmic catastrophe akin to the historical Titanic disaster.\n"
   ]
  },
  {
   "cell_type": "markdown",
   "id": "1",
   "metadata": {
    "id": "ceCeq2sPFL-4"
   },
   "source": [
    "## Objectives\n",
    "\n",
    "1. **Data Exploration**: Analyze and preprocess the dataset to handle missing values, encode categorical variables, and normalize numerical features.\n",
    "2. **Feature Engineering**: Create new features and transform existing ones to improve model performance.\n",
    "3. **Model Training**: Build and train various machine learning models, including logistic regression, decision trees, and ensemble methods, to predict survival chances.\n",
    "4. **Evaluation**: Assess model performance using metrics such as accuracy, precision, recall, and ROC-AUC.\n"
   ]
  },
  {
   "cell_type": "markdown",
   "id": "2",
   "metadata": {
    "id": "Fjhx_L-_FTyG"
   },
   "source": [
    "## Approach\n",
    "\n",
    "- **Data Preprocessing**: Clean and prepare the data for modeling.\n",
    "- **Exploratory Data Analysis (EDA)**: Gain insights into the dataset and identify patterns and correlations.\n",
    "- **Model Building**: Implement and tune different machine learning models to find the best predictor for survival.\n",
    "- **Validation and Testing**: Evaluate model performance on validation and test datasets to ensure generalizability.\n"
   ]
  },
  {
   "cell_type": "markdown",
   "id": "3",
   "metadata": {
    "id": "pSAXmvvkFpPj"
   },
   "source": [
    "## Setup and Installation\n",
    "\n",
    "To get started with the Space Titanic project, you need to install several Python libraries. These libraries are essential for data handling, visualization, and model building. You can install them using the following commands:\n"
   ]
  },
  {
   "cell_type": "code",
   "execution_count": null,
   "id": "4",
   "metadata": {
    "colab": {
     "base_uri": "https://localhost:8080/"
    },
    "executionInfo": {
     "elapsed": 16285,
     "status": "ok",
     "timestamp": 1725557646569,
     "user": {
      "displayName": "Bashaar Dhoot",
      "userId": "04066267376811464441"
     },
     "user_tz": -60
    },
    "id": "04b70142-6d09-4f69-9a90-34cd037bc14b",
    "outputId": "d8dca0a7-1cd4-4af2-838b-f530b4fe16fd"
   },
   "outputs": [],
   "source": [
    "!pip install opendatasets\n",
    "!pip install pandas\n",
    "%pip install seaborn\n",
    "%pip install graphviz\n",
    "%pip install fastai\n",
    "%pip install ipywidgets"
   ]
  },
  {
   "cell_type": "markdown",
   "id": "5",
   "metadata": {
    "id": "yJtP3d3wF9qK"
   },
   "source": [
    "# Data Loading and Inspection\n",
    "\n",
    "The following code snippet demonstrates how to load and inspect the dataset for the Space Titanic project:"
   ]
  },
  {
   "cell_type": "code",
   "execution_count": null,
   "id": "6",
   "metadata": {
    "id": "b2858525-4027-4c1f-a2db-4dafaedcb33e"
   },
   "outputs": [],
   "source": [
    "from fastai.imports import *\n",
    "np.set_printoptions(linewidth=130)\n",
    "import pandas as pd"
   ]
  },
  {
   "cell_type": "code",
   "execution_count": null,
   "id": "7",
   "metadata": {
    "colab": {
     "base_uri": "https://localhost:8080/"
    },
    "executionInfo": {
     "elapsed": 21015,
     "status": "ok",
     "timestamp": 1725557767312,
     "user": {
      "displayName": "Bashaar Dhoot",
      "userId": "04066267376811464441"
     },
     "user_tz": -60
    },
    "id": "ZozWRBT3QT88",
    "outputId": "efefc158-237e-4a90-caf9-01a06a212885"
   },
   "outputs": [],
   "source": [
    "from google.colab import drive\n",
    "drive.mount('/content/drive')"
   ]
  },
  {
   "cell_type": "code",
   "execution_count": null,
   "id": "8",
   "metadata": {
    "id": "ce03009f-4725-48a0-9b1b-060e3486b1e7"
   },
   "outputs": [],
   "source": [
    "df = pd.read_csv('/content/drive/MyDrive/Colab Notebooks/spaceship-titanic/train.csv')\n",
    "tst_df = pd.read_csv('/content/drive/MyDrive/Colab Notebooks/spaceship-titanic/test.csv')"
   ]
  },
  {
   "cell_type": "markdown",
   "id": "9",
   "metadata": {
    "id": "4Ak9EjTQGd9v"
   },
   "source": [
    "## Training Dataset Overview\n",
    "\n",
    "The training dataset contains the following columns:\n"
   ]
  },
  {
   "cell_type": "code",
   "execution_count": null,
   "id": "10",
   "metadata": {
    "colab": {
     "base_uri": "https://localhost:8080/",
     "height": 617
    },
    "executionInfo": {
     "elapsed": 464,
     "status": "ok",
     "timestamp": 1725557866893,
     "user": {
      "displayName": "Bashaar Dhoot",
      "userId": "04066267376811464441"
     },
     "user_tz": -60
    },
    "id": "0b4c1694-e8cf-4d47-b55e-b865d4437a77",
    "outputId": "6c00001e-f28f-4919-d47f-ee0df71abc75"
   },
   "outputs": [],
   "source": [
    "df"
   ]
  },
  {
   "cell_type": "code",
   "execution_count": null,
   "id": "11",
   "metadata": {
    "colab": {
     "base_uri": "https://localhost:8080/",
     "height": 617
    },
    "executionInfo": {
     "elapsed": 519,
     "status": "ok",
     "timestamp": 1725557870426,
     "user": {
      "displayName": "Bashaar Dhoot",
      "userId": "04066267376811464441"
     },
     "user_tz": -60
    },
    "id": "c22dc980-e8df-4d33-a7ad-c4edbe7d1d53",
    "outputId": "d3d4f400-54a7-4db0-9f5b-678fc00adaf8"
   },
   "outputs": [],
   "source": [
    "tst_df"
   ]
  },
  {
   "cell_type": "markdown",
   "id": "12",
   "metadata": {
    "id": "3U6x5H0uGZH-"
   },
   "source": [
    "- **PassengerId**: Unique identifier for each passenger.\n",
    "- **HomePlanet**: Planet where the passenger comes from.\n",
    "- **CryoSleep**: Indicates if the passenger was in cryosleep (True/False).\n",
    "- **Cabin**: Cabin location on the spacecraft.\n",
    "- **Destination**: Destination of the spacecraft.\n",
    "- **Age**: Age of the passenger.\n",
    "- **VIP**: Indicates if the passenger is a VIP (True/False).\n",
    "- **RoomService**: Amount spent on room service.\n",
    "- **FoodCourt**: Amount spent in the food court.\n",
    "- **ShoppingMall**: Amount spent in the shopping mall.\n",
    "- **Spa**: Amount spent at the spa.\n",
    "- **VRDeck**: Amount spent on the VR deck.\n",
    "- **Name**: Name of the passenger.\n",
    "- **Transported**: Target variable indicating if the passenger was transported (True/False).\n",
    "\n",
    "The dataset has **8693 rows** and **14 columns**, providing detailed information about each passenger.\n",
    "\n",
    "## Next Steps\n",
    "\n",
    "1. **Data Exploration**: Analyze and visualize the dataset to understand distributions and relationships between features.\n",
    "2. **Preprocessing**: Handle missing values, encode categorical variables, and normalize numerical features.\n",
    "3. **Model Building**: Develop and train machine learning models to predict survival based on the available data."
   ]
  },
  {
   "cell_type": "markdown",
   "id": "13",
   "metadata": {
    "id": "PFNLYZXEG3NI"
   },
   "source": [
    "# Data Preprocessing\n",
    "\n",
    "The following code snippet demonstrates the data preprocessing steps applied to the training and test datasets:"
   ]
  },
  {
   "cell_type": "code",
   "execution_count": null,
   "id": "14",
   "metadata": {
    "id": "03378845-b884-4fe8-9627-acecfaf9aca0"
   },
   "outputs": [],
   "source": [
    "modes = df.mode().iloc[0]"
   ]
  },
  {
   "cell_type": "code",
   "execution_count": null,
   "id": "15",
   "metadata": {
    "id": "2df2e65b-718a-47fb-bf8b-50025cfb2d7c"
   },
   "outputs": [],
   "source": [
    "def add_data(df):\n",
    "    df['FoodCourt'] = df.FoodCourt.fillna(0)\n",
    "    df['ShoppingMall'] = df.ShoppingMall.fillna(0)\n",
    "    df['RoomService'] = df.RoomService.fillna(0)\n",
    "    df['Spa'] = df.Spa.fillna(0)\n",
    "    df['VRDeck'] = df.VRDeck.fillna(0)\n",
    "    df.fillna(modes, inplace=True)\n",
    "    df['Fare'] = df['FoodCourt'] + df['ShoppingMall'] + df['RoomService']+ df['Spa']+ df['VRDeck']\n",
    "    df['LogFare'] = np.log(df['Fare']+1)\n",
    "\n",
    "\n",
    "add_data(df)\n",
    "add_data(tst_df)"
   ]
  },
  {
   "cell_type": "markdown",
   "id": "16",
   "metadata": {
    "id": "S6-nNxFJHDpa"
   },
   "source": [
    "- **Missing Values**: Missing values in the columns `FoodCourt`, `ShoppingMall`, `RoomService`, `Spa`, and `VRDeck` are filled with `0`. This assumes that if data is missing in these columns, no spending occurred.\n",
    "\n",
    "- **Mode Imputation**: Remaining missing values in other columns are filled with the mode of each respective column. The mode represents the most frequently occurring value in each column.\n",
    "\n",
    "- **Feature Engineering**:\n",
    "  - **`Fare`**: A new feature `Fare` is created by summing the amounts spent in various facilities (`FoodCourt`, `ShoppingMall`, `RoomService`, `Spa`, and `VRDeck`). This provides a combined measure of passenger expenditure.\n",
    "  - **`LogFare`**: The `LogFare` feature is computed as the logarithm of `Fare + 1`. This transformation helps handle skewed distributions and can improve model performance by normalizing the feature's distribution.\n",
    "\n",
    "These preprocessing steps ensure that the datasets are clean and feature-rich, making them suitable for subsequent modeling."
   ]
  },
  {
   "cell_type": "code",
   "execution_count": null,
   "id": "17",
   "metadata": {
    "colab": {
     "base_uri": "https://localhost:8080/",
     "height": 617
    },
    "executionInfo": {
     "elapsed": 824,
     "status": "ok",
     "timestamp": 1725557880158,
     "user": {
      "displayName": "Bashaar Dhoot",
      "userId": "04066267376811464441"
     },
     "user_tz": -60
    },
    "id": "5bd68ad8-9548-47a4-ad50-401373ccc75b",
    "outputId": "1439a53c-05c8-4087-e7cd-b3e88246c06d"
   },
   "outputs": [],
   "source": [
    "df"
   ]
  },
  {
   "cell_type": "code",
   "execution_count": null,
   "id": "18",
   "metadata": {
    "colab": {
     "base_uri": "https://localhost:8080/",
     "height": 728
    },
    "executionInfo": {
     "elapsed": 2338,
     "status": "ok",
     "timestamp": 1725557885352,
     "user": {
      "displayName": "Bashaar Dhoot",
      "userId": "04066267376811464441"
     },
     "user_tz": -60
    },
    "id": "cb918f8b-ac45-45e7-9860-56e3e05c3552",
    "outputId": "d8e43bac-98bb-49eb-c7c8-bfe2a569c09f"
   },
   "outputs": [],
   "source": [
    "df.hist(bins=30, figsize=(15, 10))"
   ]
  },
  {
   "cell_type": "code",
   "execution_count": null,
   "id": "19",
   "metadata": {
    "colab": {
     "base_uri": "https://localhost:8080/"
    },
    "executionInfo": {
     "elapsed": 519,
     "status": "ok",
     "timestamp": 1725557889165,
     "user": {
      "displayName": "Bashaar Dhoot",
      "userId": "04066267376811464441"
     },
     "user_tz": -60
    },
    "id": "ed73466c-73eb-4a11-bcdc-323c3547b7d5",
    "outputId": "2467c07f-62cf-4dd3-f429-0a59ff7f2a26"
   },
   "outputs": [],
   "source": [
    "df.info()"
   ]
  },
  {
   "cell_type": "markdown",
   "id": "20",
   "metadata": {
    "id": "AQA6-6rKLvNy"
   },
   "source": [
    "One-Hot Encoding for Categorical Columns"
   ]
  },
  {
   "cell_type": "code",
   "execution_count": null,
   "id": "21",
   "metadata": {
    "colab": {
     "base_uri": "https://localhost:8080/",
     "height": 175
    },
    "executionInfo": {
     "elapsed": 511,
     "status": "ok",
     "timestamp": 1725557891936,
     "user": {
      "displayName": "Bashaar Dhoot",
      "userId": "04066267376811464441"
     },
     "user_tz": -60
    },
    "id": "afd25e95-1f82-4994-8dfc-124ea4aed1c3",
    "outputId": "7ae6ffe9-b9fa-457e-ea90-f64f9716742f"
   },
   "outputs": [],
   "source": [
    "df.describe(include=[object])"
   ]
  },
  {
   "cell_type": "code",
   "execution_count": null,
   "id": "22",
   "metadata": {
    "id": "860d1c5c-0d09-4cb6-9e35-1a31c85f5974"
   },
   "outputs": [],
   "source": [
    "df = pd.get_dummies(df, columns=[\"HomePlanet\",\"Destination\"])\n",
    "tst_df = pd.get_dummies(tst_df, columns=[\"HomePlanet\",\"Destination\"])"
   ]
  },
  {
   "cell_type": "code",
   "execution_count": null,
   "id": "23",
   "metadata": {
    "colab": {
     "base_uri": "https://localhost:8080/",
     "height": 212
    },
    "executionInfo": {
     "elapsed": 535,
     "status": "ok",
     "timestamp": 1725557897168,
     "user": {
      "displayName": "Bashaar Dhoot",
      "userId": "04066267376811464441"
     },
     "user_tz": -60
    },
    "id": "ad1c05fe-f867-49a3-9a8b-c9e29052f6a0",
    "outputId": "6549261b-09d7-428e-8fb8-e4ec1f6544d8"
   },
   "outputs": [],
   "source": [
    "tst_df.describe(include=[bool])"
   ]
  },
  {
   "cell_type": "markdown",
   "id": "24",
   "metadata": {
    "id": "2cm1wtpHMOfD"
   },
   "source": [
    "### Descriptive Statistics for Object Columns\n",
    "\n",
    "The command `df.describe(include=[object])` generates descriptive statistics for columns with object (string) data types in the `df` DataFrame. The output provides:\n",
    "\n",
    "- **count**: Number of non-null entries in each column.\n",
    "- **unique**: Number of unique values in each column.\n",
    "- **top**: Most frequent value in each column.\n",
    "- **freq**: Frequency of the most frequent value.\n",
    "\n",
    "### One-Hot Encoding for Categorical Columns\n",
    "\n",
    "The command `pd.get_dummies(df, columns=[\"HomePlanet\",\"Destination\"])` converts categorical columns into dummy/indicator variables. This creates new binary columns for each category in the specified columns (`HomePlanet` and `Destination`). The operation is applied to both the training (`df`) and test (`tst_df`) DataFrames.\n",
    "\n",
    "### Descriptive Statistics for Boolean Columns\n",
    "\n",
    "The command `tst_df.describe(include=[bool])` generates descriptive statistics for columns with boolean data types in the `tst_df` DataFrame. The output provides:\n",
    "\n",
    "- **count**: Number of non-null entries in each column.\n",
    "- **unique**: Number of unique values in each column (should be 2 for boolean columns: `True` and `False`).\n",
    "- **top**: Most frequent value in each column.\n",
    "- **freq**: Frequency of the most frequent value."
   ]
  },
  {
   "cell_type": "markdown",
   "id": "25",
   "metadata": {
    "id": "zPJlBbQXM27F"
   },
   "source": [
    "### Function: `proc_bool`\n",
    "\n",
    "The function `proc_bool(df)` is designed to convert specific boolean columns in a DataFrame to integer type. The conversion is applied to both the training and test DataFrames."
   ]
  },
  {
   "cell_type": "code",
   "execution_count": null,
   "id": "26",
   "metadata": {
    "id": "07f82bf3-1a80-46a0-8e10-e157d4345352"
   },
   "outputs": [],
   "source": [
    "def proc_bool(df):\n",
    "    df[\"CryoSleep\"] = df[\"CryoSleep\"].astype(int)\n",
    "    df[\"VIP\"] = df[\"VIP\"].astype(int)\n",
    "    df[\"HomePlanet_Earth\"] = df[\"HomePlanet_Earth\"].astype(int)\n",
    "    df[\"HomePlanet_Europa\"] = df[\"HomePlanet_Europa\"].astype(int)\n",
    "    df[\"HomePlanet_Mars\"] = df[\"HomePlanet_Mars\"].astype(int)\n",
    "    df[\"Destination_55_Cancri-e\"] = df[\"Destination_55 Cancri e\"].astype(int)\n",
    "    df[\"Destination_PSO_J318.5-22\"] = df[\"Destination_PSO J318.5-22\"].astype(int)\n",
    "    df[\"Destination_TRAPPIST-1e\"] = df[\"Destination_TRAPPIST-1e\"].astype(int)\n",
    "\n",
    "proc_bool(df)\n",
    "proc_bool(tst_df)"
   ]
  },
  {
   "cell_type": "code",
   "execution_count": null,
   "id": "27",
   "metadata": {
    "id": "19c80e0a-b95b-41df-928b-bb1c5628f77e"
   },
   "outputs": [],
   "source": [
    "df[\"Transported\"] = df[\"Transported\"].astype(int)"
   ]
  },
  {
   "cell_type": "markdown",
   "id": "28",
   "metadata": {
    "id": "pC13_1ahNIf-"
   },
   "source": [
    "- **Purpose**: Convert specific boolean columns in the DataFrame to integer type (0 and 1).\n",
    "- **Columns Converted**:\n",
    "  - `CryoSleep`\n",
    "  - `VIP`\n",
    "  - `HomePlanet_Earth`\n",
    "  - `HomePlanet_Europa`\n",
    "  - `HomePlanet_Mars`\n",
    "  - `Destination_55_Cancri-e`\n",
    "  - `Destination_PSO_J318.5-22`\n",
    "  - `Destination_TRAPPIST-1e`\n"
   ]
  },
  {
   "cell_type": "code",
   "execution_count": null,
   "id": "29",
   "metadata": {
    "id": "805eb359-d204-4f9b-b161-4a1394fd73f1"
   },
   "outputs": [],
   "source": [
    "df = df.drop(columns=['Destination_55 Cancri e'])\n",
    "df = df.drop(columns=['Destination_PSO J318.5-22'])\n",
    "tst_df = tst_df.drop(columns=['Destination_55 Cancri e'])\n",
    "tst_df = tst_df.drop(columns=['Destination_PSO J318.5-22'])"
   ]
  },
  {
   "cell_type": "code",
   "execution_count": null,
   "id": "30",
   "metadata": {
    "colab": {
     "base_uri": "https://localhost:8080/",
     "height": 635
    },
    "executionInfo": {
     "elapsed": 523,
     "status": "ok",
     "timestamp": 1725557909651,
     "user": {
      "displayName": "Bashaar Dhoot",
      "userId": "04066267376811464441"
     },
     "user_tz": -60
    },
    "id": "aaa836fc-9826-4985-bcd8-c88e2dbc4afb",
    "outputId": "b9338442-3531-4b19-a8a9-904ae1473698"
   },
   "outputs": [],
   "source": [
    "df"
   ]
  },
  {
   "cell_type": "code",
   "execution_count": null,
   "id": "31",
   "metadata": {
    "colab": {
     "base_uri": "https://localhost:8080/"
    },
    "executionInfo": {
     "elapsed": 537,
     "status": "ok",
     "timestamp": 1725557913967,
     "user": {
      "displayName": "Bashaar Dhoot",
      "userId": "04066267376811464441"
     },
     "user_tz": -60
    },
    "id": "af9153f6-841b-4db7-89bf-1efeed4248e5",
    "outputId": "9a6e7d8c-2cab-4653-880e-2bd21b24b42e"
   },
   "outputs": [],
   "source": [
    "df.info()"
   ]
  },
  {
   "cell_type": "markdown",
   "id": "32",
   "metadata": {
    "id": "FpP09QqtNZLD"
   },
   "source": [
    "### Feature Lists and Target Variable"
   ]
  },
  {
   "cell_type": "code",
   "execution_count": null,
   "id": "33",
   "metadata": {
    "id": "f9eb233d-7adb-44e8-9214-5fbd2c7c5884"
   },
   "outputs": [],
   "source": [
    "cats=[\"CryoSleep\",\"VIP\", \"HomePlanet_Earth\", \"HomePlanet_Europa\", \"HomePlanet_Mars\", \"Destination_TRAPPIST-1e\", \"Destination_55_Cancri-e\", \"Destination_PSO_J318.5-22\"]\n",
    "conts=['Age', 'LogFare']\n",
    "dep=\"Transported\""
   ]
  },
  {
   "cell_type": "markdown",
   "id": "34",
   "metadata": {
    "id": "Pbvd2qy6Nb4a"
   },
   "source": [
    "- **Categorical Features (`cats`)**:\n",
    "  - List of columns representing categorical features, which will typically be used for one-hot encoding or other categorical transformations.\n",
    "  - `CryoSleep`\n",
    "  - `VIP`\n",
    "  - `HomePlanet_Earth`\n",
    "  - `HomePlanet_Europa`\n",
    "  - `HomePlanet_Mars`\n",
    "  - `Destination_TRAPPIST-1e`\n",
    "  - `Destination_55_Cancri-e`\n",
    "  - `Destination_PSO_J318.5-22`\n",
    "\n",
    "- **Continuous Features (`conts`)**:\n",
    "  - List of columns representing continuous features, which are typically used in regression or normalization.\n",
    "  - `Age`\n",
    "  - `LogFare`\n",
    "\n",
    "- **Target Variable (`dep`)**:\n",
    "  - The variable that the model is trying to predict.\n",
    "  - `Transported`\n"
   ]
  },
  {
   "cell_type": "code",
   "execution_count": null,
   "id": "35",
   "metadata": {
    "colab": {
     "base_uri": "https://localhost:8080/",
     "height": 241
    },
    "executionInfo": {
     "elapsed": 677,
     "status": "ok",
     "timestamp": 1725557920498,
     "user": {
      "displayName": "Bashaar Dhoot",
      "userId": "04066267376811464441"
     },
     "user_tz": -60
    },
    "id": "196a2aa2-df1c-4ea5-be08-caca81257a1c",
    "outputId": "9e2f80ee-f435-44ed-fd9d-b05862e304b5"
   },
   "outputs": [],
   "source": [
    "df.Transported.head()"
   ]
  },
  {
   "cell_type": "code",
   "execution_count": null,
   "id": "36",
   "metadata": {
    "colab": {
     "base_uri": "https://localhost:8080/",
     "height": 439
    },
    "executionInfo": {
     "elapsed": 54304,
     "status": "ok",
     "timestamp": 1725557977465,
     "user": {
      "displayName": "Bashaar Dhoot",
      "userId": "04066267376811464441"
     },
     "user_tz": -60
    },
    "id": "a496f5e1-fe5e-4267-9387-6734ffa6211f",
    "outputId": "f3d18295-6d9d-406e-ddab-cc61654800c5"
   },
   "outputs": [],
   "source": [
    "import seaborn as sns\n",
    "\n",
    "fig,axs = plt.subplots(1,2, figsize=(11,5))\n",
    "sns.barplot(data=df, y=dep, x=\"LogFare\", ax=axs[0]).set(title=\"Survival rate\")\n",
    "sns.countplot(data=df, x=\"LogFare\", ax=axs[1]).set(title=\"Histogram\");"
   ]
  },
  {
   "cell_type": "markdown",
   "id": "37",
   "metadata": {
    "id": "lTdd9JJ2Oiby"
   },
   "source": [
    "### Define Feature and Target Extraction Function"
   ]
  },
  {
   "cell_type": "code",
   "execution_count": null,
   "id": "38",
   "metadata": {
    "id": "292604b9-87d6-444a-b7e4-bd72cbf0f130"
   },
   "outputs": [],
   "source": [
    "from numpy import random\n",
    "from sklearn.model_selection import train_test_split\n",
    "\n",
    "random.seed(42)\n",
    "trn_df,val_df = train_test_split(df, test_size=0.25)"
   ]
  },
  {
   "cell_type": "code",
   "execution_count": null,
   "id": "39",
   "metadata": {
    "id": "1342d21d-955b-40ee-8b79-58d779b147fd"
   },
   "outputs": [],
   "source": [
    "def xs_y(df):\n",
    "    xs = df[cats+conts].copy()\n",
    "    return xs,df[dep] if dep in df else None\n",
    "\n",
    "trn_xs,trn_y = xs_y(trn_df)\n",
    "val_xs,val_y = xs_y(val_df)"
   ]
  },
  {
   "cell_type": "markdown",
   "id": "40",
   "metadata": {
    "id": "eP_bYS2TO1nc"
   },
   "source": [
    "- **Defines a function `xs_y(df)` that extracts features (`xs`) and the target variable from the DataFrame.**\n",
    "- **`xs` contains columns listed in `cats` and `conts`.**\n",
    "- **The target variable is returned if it exists in the DataFrame; otherwise, `None` is returned.**"
   ]
  },
  {
   "cell_type": "markdown",
   "id": "41",
   "metadata": {
    "id": "4vztckUhO5YE"
   },
   "source": [
    "### Generate Predictions"
   ]
  },
  {
   "cell_type": "code",
   "execution_count": null,
   "id": "42",
   "metadata": {
    "id": "75cf4dc6-304d-4177-8024-d9ee4f731e71"
   },
   "outputs": [],
   "source": [
    "preds = val_xs.LogFare==1"
   ]
  },
  {
   "cell_type": "markdown",
   "id": "43",
   "metadata": {
    "id": "5pyoz5DYPC4D"
   },
   "source": [
    "- **Creates a prediction array (`preds`) based on whether the `LogFare` column in the validation features equals 1.**"
   ]
  },
  {
   "cell_type": "markdown",
   "id": "44",
   "metadata": {
    "id": "NH9q6dL8PGWJ"
   },
   "source": [
    "### Calculate Mean Absolute Error"
   ]
  },
  {
   "cell_type": "code",
   "execution_count": null,
   "id": "45",
   "metadata": {
    "colab": {
     "base_uri": "https://localhost:8080/"
    },
    "executionInfo": {
     "elapsed": 468,
     "status": "ok",
     "timestamp": 1725557991878,
     "user": {
      "displayName": "Bashaar Dhoot",
      "userId": "04066267376811464441"
     },
     "user_tz": -60
    },
    "id": "d23a39b0-0022-4979-952a-b962846e2840",
    "outputId": "45635df9-2ad5-40da-c9c2-54651b7a4a6a"
   },
   "outputs": [],
   "source": [
    "from sklearn.metrics import mean_absolute_error\n",
    "mean_absolute_error(val_y, preds)"
   ]
  },
  {
   "cell_type": "markdown",
   "id": "46",
   "metadata": {
    "id": "uRAtEOKGPNhb"
   },
   "source": [
    "- **Imports the `mean_absolute_error` function from `sklearn.metrics`.**\n",
    "- **Calculates the mean absolute error between the true target values (`val_y`) and the predictions (`preds`).**\n",
    "\n",
    "### Result\n",
    "\n",
    "- **Mean Absolute Error**: `0.5022999080036799`\n",
    "\n",
    "  The mean absolute error (MAE) measures the average magnitude of errors in the predictions, without considering their direction. An MAE of approximately `0.5023` indicates the average difference between the predicted values and the actual values is around `0.5023`. This value can help assess the performance of the predictive model; a lower MAE generally means better model performance.\n"
   ]
  },
  {
   "cell_type": "markdown",
   "id": "47",
   "metadata": {
    "id": "0h0jjEVwS2Vj"
   },
   "source": [
    "### Data Visualization and Model Evaluation\n",
    "\n",
    "**Filter Data and Plot Visualizations**"
   ]
  },
  {
   "cell_type": "code",
   "execution_count": null,
   "id": "48",
   "metadata": {
    "colab": {
     "base_uri": "https://localhost:8080/",
     "height": 465
    },
    "executionInfo": {
     "elapsed": 571,
     "status": "ok",
     "timestamp": 1725557995709,
     "user": {
      "displayName": "Bashaar Dhoot",
      "userId": "04066267376811464441"
     },
     "user_tz": -60
    },
    "id": "2b845c1f-4fcb-4e03-845e-8b0ef210e366",
    "outputId": "ede96976-cd53-434f-d7b6-bbd5aaa4534a"
   },
   "outputs": [],
   "source": [
    "df_fare = trn_df[trn_df.LogFare>0]\n",
    "fig,axs = plt.subplots(1,2, figsize=(11,5))\n",
    "sns.boxenplot(data=df_fare, x=dep, y=\"LogFare\", ax=axs[0])\n",
    "sns.kdeplot(data=df_fare, x=\"LogFare\", ax=axs[1]);"
   ]
  },
  {
   "cell_type": "code",
   "execution_count": null,
   "id": "49",
   "metadata": {
    "id": "8bce374e-2b7f-4bf3-b9c1-799d136fd0a9"
   },
   "outputs": [],
   "source": [
    "preds = val_xs.LogFare>7.5"
   ]
  },
  {
   "cell_type": "code",
   "execution_count": null,
   "id": "50",
   "metadata": {
    "colab": {
     "base_uri": "https://localhost:8080/"
    },
    "executionInfo": {
     "elapsed": 626,
     "status": "ok",
     "timestamp": 1725558002525,
     "user": {
      "displayName": "Bashaar Dhoot",
      "userId": "04066267376811464441"
     },
     "user_tz": -60
    },
    "id": "cff3aed5-eebc-4bd3-b35d-72696aa01128",
    "outputId": "0b46bac1-82c2-429a-fa64-5e4521b7528c"
   },
   "outputs": [],
   "source": [
    "mean_absolute_error(val_y, preds)"
   ]
  },
  {
   "cell_type": "markdown",
   "id": "51",
   "metadata": {
    "id": "nWk0XRddTKWa"
   },
   "source": [
    "\n",
    "   - `df_fare` contains rows from `trn_df` where `LogFare` is greater than 0.\n",
    "\n",
    "\n",
    "   - **Boxen Plot**: The first subplot displays a boxen plot of `LogFare` against the target variable (`dep`). This helps visualize the distribution of `LogFare` across different categories of the target variable.\n",
    "   - **Kernel Density Plot**: The second subplot shows a KDE plot of `LogFare`, providing a smoothed estimate of its distribution.\n",
    "\n",
    "\n",
    "   - Creates a prediction array (`preds`) where a value is `True` if `LogFare` is greater than 7.5, and `False` otherwise.\n",
    "\n",
    "\n",
    "   - Computes the mean absolute error (MAE) between the true target values (`val_y`) and the predictions (`preds`). The MAE measures the average magnitude of errors in the predictions. This evaluation helps assess how well the threshold-based predictions match the actual target values."
   ]
  },
  {
   "cell_type": "markdown",
   "id": "52",
   "metadata": {
    "id": "FQUoqFTGXI5p"
   },
   "source": [
    "### Side Score and Scoring Function"
   ]
  },
  {
   "cell_type": "code",
   "execution_count": null,
   "id": "53",
   "metadata": {
    "id": "1f7dd71a-d669-4e33-a674-8f671c7ed78e"
   },
   "outputs": [],
   "source": [
    "def _side_score(side, y):\n",
    "    tot = side.sum()\n",
    "    if tot<=1: return 0\n",
    "    return y[side].std()*tot"
   ]
  },
  {
   "cell_type": "code",
   "execution_count": null,
   "id": "54",
   "metadata": {
    "id": "78247fef-fa3a-47f2-96ce-84c9a3c57c7c"
   },
   "outputs": [],
   "source": [
    "def score(col, y, split):\n",
    "    lhs = col<=split\n",
    "    return (_side_score(lhs,y) + _side_score(~lhs,y))/len(y)"
   ]
  },
  {
   "cell_type": "code",
   "execution_count": null,
   "id": "55",
   "metadata": {
    "colab": {
     "base_uri": "https://localhost:8080/"
    },
    "executionInfo": {
     "elapsed": 472,
     "status": "ok",
     "timestamp": 1725558010363,
     "user": {
      "displayName": "Bashaar Dhoot",
      "userId": "04066267376811464441"
     },
     "user_tz": -60
    },
    "id": "81170082-3a87-4863-8487-1228c613c57a",
    "outputId": "cd0b3c88-54b2-4b3b-e3f0-acf920a0a3d3"
   },
   "outputs": [],
   "source": [
    "score(trn_xs[\"CryoSleep\"], trn_y, 0.5)"
   ]
  },
  {
   "cell_type": "code",
   "execution_count": null,
   "id": "56",
   "metadata": {
    "colab": {
     "base_uri": "https://localhost:8080/"
    },
    "executionInfo": {
     "elapsed": 711,
     "status": "ok",
     "timestamp": 1725558014998,
     "user": {
      "displayName": "Bashaar Dhoot",
      "userId": "04066267376811464441"
     },
     "user_tz": -60
    },
    "id": "f66f1583-b699-4674-8a07-5a5946582607",
    "outputId": "7ef43e93-2764-4a99-df75-bd152925d55f"
   },
   "outputs": [],
   "source": [
    "score(trn_xs[\"LogFare\"], trn_y, 2.7)"
   ]
  },
  {
   "cell_type": "markdown",
   "id": "57",
   "metadata": {
    "id": "mBvIpWAcXbbL"
   },
   "source": [
    "- **Purpose**: Computes a score for a given side of a split.\n",
    "- **Parameters**:\n",
    "  - `side`: Boolean array indicating which rows are on the side of the split.\n",
    "  - `y`: The target variable.\n",
    "- **Logic**:\n",
    "  - If the total number of elements in the side is less than or equal to 1, the score is 0.\n",
    "  - Otherwise, the score is the standard deviation of `y` on this side multiplied by the total number of elements in this side.\n",
    "\n",
    "### Scoring Results\n",
    "\n",
    "- **Score for `CryoSleep` at split 0.5**: `0.4427274084379482`\n",
    "  - Measures how well the `CryoSleep` feature, split at 0.5, separates the target variable `trn_y`.\n",
    "  \n",
    "- **Score for `LogFare` at split 2.7**: `0.4386722115002497`\n",
    "  - Measures how well the `LogFare` feature, split at 2.7, separates the target variable `trn_y`.\n",
    "\n",
    "**Note**: The score is a measure of the quality of the split, with higher scores indicating better separation of the target variable by the feature at the given split point.\n"
   ]
  },
  {
   "cell_type": "markdown",
   "id": "58",
   "metadata": {
    "id": "lTIB1pAmqNDr"
   },
   "source": [
    "**Function Definition (`iscore`):**"
   ]
  },
  {
   "cell_type": "markdown",
   "id": "59",
   "metadata": {
    "id": "psfYnq2YqUMZ"
   },
   "source": [
    "  - This function, `iscore`, takes two arguments: `nm` (the name of a column) and `split` (a value used for splitting).\n",
    "    - It extracts a column `col` from the DataFrame `trn_xs` using `nm` as the column name.\n",
    "    - It then calls a `score` function (not provided here) on the extracted column and the target variable `trn_y` using the split value."
   ]
  },
  {
   "cell_type": "markdown",
   "id": "60",
   "metadata": {
    "id": "HfuHLKskqXNI"
   },
   "source": [
    "**Interactive Widgets with `ipywidgets`:**"
   ]
  },
  {
   "cell_type": "code",
   "execution_count": null,
   "id": "61",
   "metadata": {
    "colab": {
     "base_uri": "https://localhost:8080/",
     "height": 99,
     "referenced_widgets": [
      "4693194922c2477e8cd0dc72e0e70412",
      "f3e86e1be03c4a3b8c1b5482d6e95b7b",
      "67d34ac126d144f48ab99d01c26a78fe",
      "eae599c646f943638c8a4d91ad154cd3",
      "27dcc72b1fb849898c938cbcc4eedaca",
      "dbb062aee0944ed7a16b516dc7c24cf5",
      "ff45655ce33048d2b94f68eaba082405",
      "0e0f18eed33a4ac7949e1eb7d096ff9c",
      "66c3d1d4072f4419a5a3ca77e5c7f2ed",
      "94412f29a4344cf68ac5acb32cc538b4"
     ]
    },
    "executionInfo": {
     "elapsed": 520,
     "status": "ok",
     "timestamp": 1725558018304,
     "user": {
      "displayName": "Bashaar Dhoot",
      "userId": "04066267376811464441"
     },
     "user_tz": -60
    },
    "id": "0a42f569-9539-49ff-8524-f1bef73873cf",
    "outputId": "19e8ce1c-725d-47f9-fd0f-b0c6aee186b8"
   },
   "outputs": [],
   "source": [
    "def iscore(nm, split):\n",
    "    col = trn_xs[nm]\n",
    "    return score(col, trn_y, split)\n",
    "\n",
    "from ipywidgets import interact\n",
    "interact(nm=conts, split=15.5)(iscore);"
   ]
  },
  {
   "cell_type": "code",
   "execution_count": null,
   "id": "62",
   "metadata": {
    "colab": {
     "base_uri": "https://localhost:8080/",
     "height": 99,
     "referenced_widgets": [
      "ebe78c0b6d0f41f0be2f92b4ec5a031d",
      "256a601119b8464cbbcc601cad251b22",
      "4bc9472a38294737939d4ca83bfd350c",
      "a936c06b67ba46d182950985cb6f5669",
      "d5b6aabfbf9140669be2850876bae282",
      "1c7b99b945cd4ddb9639ac068430de54",
      "25cfc68ec2364d6998fa5e7d0862b4ea",
      "69e43a1486874335bd22e94e37e598ef",
      "5014788ab14c4c2e8d8700c28907236a",
      "1e25de0b74bd4e9793e492f9f44f3767"
     ]
    },
    "executionInfo": {
     "elapsed": 708,
     "status": "ok",
     "timestamp": 1725558031180,
     "user": {
      "displayName": "Bashaar Dhoot",
      "userId": "04066267376811464441"
     },
     "user_tz": -60
    },
    "id": "5613ede4-d1c9-4e7d-a694-fababaab8c0f",
    "outputId": "85e534c5-41d7-483f-ab71-9e59a80ec922"
   },
   "outputs": [],
   "source": [
    "interact(nm=cats, split=2)(iscore);"
   ]
  },
  {
   "cell_type": "markdown",
   "id": "63",
   "metadata": {
    "id": "cinE1_o8qkTz"
   },
   "source": [
    " - The `interact` function from the `ipywidgets` library creates an interactive user interface for the `iscore` function.\n",
    "    - In the first `interact` call, the `nm` argument is tied to a variable `conts` (likely a list of continuous features), and `split` is set to an initial value of `15.5`.\n",
    "    - In the second `interact` call, the `nm` argument is tied to a variable `cats` (likely a list of categorical features), and `split` is set to an initial value of `2`.\n",
    "    - When running in a Jupyter environment, these lines create interactive sliders or dropdowns for the user to select values for `nm` and `split`.\n"
   ]
  },
  {
   "cell_type": "markdown",
   "id": "64",
   "metadata": {
    "id": "MXgmZP9mqnWG"
   },
   "source": [
    "**Extracting Unique Values:**"
   ]
  },
  {
   "cell_type": "code",
   "execution_count": null,
   "id": "65",
   "metadata": {
    "colab": {
     "base_uri": "https://localhost:8080/"
    },
    "executionInfo": {
     "elapsed": 502,
     "status": "ok",
     "timestamp": 1725558034694,
     "user": {
      "displayName": "Bashaar Dhoot",
      "userId": "04066267376811464441"
     },
     "user_tz": -60
    },
    "id": "d5a5f486-a160-40b2-8a16-1adc74b0e460",
    "outputId": "75aef452-82b6-4fad-ecef-c5def233ed3d"
   },
   "outputs": [],
   "source": [
    "nm = \"LogFare\"\n",
    "col = trn_xs[nm]\n",
    "unq = col.unique()\n",
    "unq.sort()\n",
    "unq"
   ]
  },
  {
   "cell_type": "markdown",
   "id": "66",
   "metadata": {
    "id": "APZjeeMCqq55"
   },
   "source": [
    "- The code retrieves and sorts unique values from the \"LogFare\" column in the `trn_xs` DataFrame."
   ]
  },
  {
   "cell_type": "markdown",
   "id": "67",
   "metadata": {
    "id": "rKiO3LhvroWe"
   },
   "source": [
    "### Calculating Scores and Extracting Minimum Value:"
   ]
  },
  {
   "cell_type": "code",
   "execution_count": null,
   "id": "68",
   "metadata": {
    "colab": {
     "base_uri": "https://localhost:8080/"
    },
    "executionInfo": {
     "elapsed": 1874,
     "status": "ok",
     "timestamp": 1725558039383,
     "user": {
      "displayName": "Bashaar Dhoot",
      "userId": "04066267376811464441"
     },
     "user_tz": -60
    },
    "id": "50bcd1a9-d34c-4259-b904-8afb596af758",
    "outputId": "c1d36ae7-f497-4ef8-f941-57a4cf11b0db"
   },
   "outputs": [],
   "source": [
    "scores = np.array([score(col, trn_y, o) for o in unq if not np.isnan(o)])\n",
    "unq[scores.argmin()]"
   ]
  },
  {
   "cell_type": "markdown",
   "id": "69",
   "metadata": {
    "id": "6kDHWX49rvOX"
   },
   "source": [
    "- The `scores` array is generated by applying the `score` function on each unique value (`unq`) of the column (`col`).\n",
    "- The condition `if not np.isnan(o)` ensures that only non-NaN values are considered.\n",
    "- The `argmin()` function finds the index of the minimum value in the `scores` array, and this is used to retrieve the corresponding value from `unq`."
   ]
  },
  {
   "cell_type": "markdown",
   "id": "70",
   "metadata": {
    "id": "Z0jrH6Q8r06V"
   },
   "source": [
    "### Function `min_col`:"
   ]
  },
  {
   "cell_type": "code",
   "execution_count": null,
   "id": "71",
   "metadata": {
    "colab": {
     "base_uri": "https://localhost:8080/"
    },
    "executionInfo": {
     "elapsed": 624,
     "status": "ok",
     "timestamp": 1725558043071,
     "user": {
      "displayName": "Bashaar Dhoot",
      "userId": "04066267376811464441"
     },
     "user_tz": -60
    },
    "id": "3a638920-8466-4934-b8dd-1c851ac15f98",
    "outputId": "1ce2a9de-4011-46b0-c737-11ead6a300c6"
   },
   "outputs": [],
   "source": [
    "def min_col(df, nm):\n",
    "    col,y = df[nm],df[dep]\n",
    "    unq = col.dropna().unique()\n",
    "    scores = np.array([score(col, y, o) for o in unq if not np.isnan(o)])\n",
    "    idx = scores.argmin()\n",
    "    return unq[idx],scores[idx]\n",
    "\n",
    "min_col(trn_df, \"Age\")"
   ]
  },
  {
   "cell_type": "markdown",
   "id": "72",
   "metadata": {
    "id": "B5DcrYFor5b7"
   },
   "source": [
    "- This function, `min_col`, takes a DataFrame `df` and column name `nm` as input.\n",
    "- It extracts the `col` (specified column) and the dependent variable `y`.\n",
    "- It calculates scores for each unique, non-NaN value in `col` using the `score` function and returns the unique value with the minimum score, along with the score itself.\n"
   ]
  },
  {
   "cell_type": "markdown",
   "id": "73",
   "metadata": {
    "id": "abvR9ILsr9Zd"
   },
   "source": [
    "### Applying `min_col` on Multiple Columns:"
   ]
  },
  {
   "cell_type": "code",
   "execution_count": null,
   "id": "74",
   "metadata": {
    "colab": {
     "base_uri": "https://localhost:8080/"
    },
    "executionInfo": {
     "elapsed": 1836,
     "status": "ok",
     "timestamp": 1725558047169,
     "user": {
      "displayName": "Bashaar Dhoot",
      "userId": "04066267376811464441"
     },
     "user_tz": -60
    },
    "id": "f8541a62-803b-45d4-af2c-faec251d2412",
    "outputId": "d7a59d71-0fd3-45a9-b626-c03ac73f5923"
   },
   "outputs": [],
   "source": [
    "cols = cats+conts\n",
    "{o:min_col(trn_df, o) for o in cols}"
   ]
  },
  {
   "cell_type": "markdown",
   "id": "75",
   "metadata": {
    "id": "weh0I4_LsGCy"
   },
   "source": [
    "- The `min_col` function is applied to the \"Age\" column of the DataFrame `trn_df`.\n",
    "- This returns the value in the \"Age\" column that produces the minimum score.\n",
    "- A dictionary comprehension is used to calculate the minimum score for each column in `cols`, which consists of both categorical (`cats`) and continuous (`conts`) columns.\n",
    "- For each column, `min_col` is called, and a dictionary is returned where the keys are the column names, and the values are the results from `min_col`."
   ]
  },
  {
   "cell_type": "markdown",
   "id": "76",
   "metadata": {
    "id": "4uCJssyasSfD"
   },
   "source": [
    "### Removing a Column and Splitting the Dataset:"
   ]
  },
  {
   "cell_type": "code",
   "execution_count": null,
   "id": "77",
   "metadata": {
    "id": "dd6d0c82-962a-4050-b7a2-4f8e4ca19398"
   },
   "outputs": [],
   "source": [
    "cols.remove(\"CryoSleep\")\n",
    "isSleep = trn_df.CryoSleep==1\n",
    "sleep,noSleep = trn_df[isSleep],trn_df[~isSleep]"
   ]
  },
  {
   "cell_type": "markdown",
   "id": "78",
   "metadata": {
    "id": "f4-BhavNsaL_"
   },
   "source": [
    "- The `\"CryoSleep\"` column is removed from `cols`.\n",
    "- The dataset is split into two subsets: `sleep`, which contains rows where `CryoSleep == 1`, and `noSleep`, which contains rows where `CryoSleep != 1`."
   ]
  },
  {
   "cell_type": "markdown",
   "id": "79",
   "metadata": {
    "id": "9j_ywf5Osdla"
   },
   "source": [
    "### Applying `min_col` on Subsets:"
   ]
  },
  {
   "cell_type": "code",
   "execution_count": null,
   "id": "80",
   "metadata": {
    "colab": {
     "base_uri": "https://localhost:8080/"
    },
    "executionInfo": {
     "elapsed": 440,
     "status": "ok",
     "timestamp": 1725558051711,
     "user": {
      "displayName": "Bashaar Dhoot",
      "userId": "04066267376811464441"
     },
     "user_tz": -60
    },
    "id": "6ee3272e-0367-4bce-a509-35cc66c7e417",
    "outputId": "fcecf0de-f70d-48fc-c575-c2bd608681cc"
   },
   "outputs": [],
   "source": [
    "{o:min_col(sleep, o) for o in cols}"
   ]
  },
  {
   "cell_type": "code",
   "execution_count": null,
   "id": "81",
   "metadata": {
    "colab": {
     "base_uri": "https://localhost:8080/"
    },
    "executionInfo": {
     "elapsed": 1841,
     "status": "ok",
     "timestamp": 1725558055970,
     "user": {
      "displayName": "Bashaar Dhoot",
      "userId": "04066267376811464441"
     },
     "user_tz": -60
    },
    "id": "439343e3-6f37-4b83-9654-838c6bee0c3f",
    "outputId": "67b29963-bc02-4e53-dabd-52acc847332b"
   },
   "outputs": [],
   "source": [
    "{o:min_col(noSleep, o) for o in cols}"
   ]
  },
  {
   "cell_type": "markdown",
   "id": "82",
   "metadata": {
    "id": "aqUmg5L_sigt"
   },
   "source": [
    "- The `min_col` function is applied to each column in the `sleep` subset, and a dictionary is generated with the column names as keys and the minimum score for each column as values.\n",
    "- Similarly, the `min_col` function is applied to each column in the `noSleep` subset, producing another dictionary with the same structure.\n",
    "\n",
    "- The `min_col` function is used to calculate the value that minimizes the score for each column in the dataset.\n",
    "- The code first applies this function to the full dataset, and then to two subsets: one where passengers are in CryoSleep, and one where they are not.\n",
    "- The results show the optimal splits for each feature and subset of data.\n"
   ]
  },
  {
   "cell_type": "markdown",
   "id": "83",
   "metadata": {
    "id": "E_AK9umcYNag"
   },
   "source": [
    "# Fit a Decision Tree model with a maximum of 4 leaf nodes"
   ]
  },
  {
   "cell_type": "code",
   "execution_count": null,
   "id": "84",
   "metadata": {
    "id": "52f92b9d-02eb-4e28-967d-169fe6042788"
   },
   "outputs": [],
   "source": [
    "from sklearn.tree import DecisionTreeClassifier, export_graphviz\n",
    "\n",
    "m = DecisionTreeClassifier(max_leaf_nodes=4).fit(trn_xs, trn_y);"
   ]
  },
  {
   "cell_type": "code",
   "execution_count": null,
   "id": "85",
   "metadata": {
    "id": "5645002f-0e92-46cc-916e-75b8f9c482ee"
   },
   "outputs": [],
   "source": [
    "import graphviz\n",
    "\n",
    "def draw_tree(t, df, size=10, ratio=0.6, precision=2, **kwargs):\n",
    "    s=export_graphviz(t, out_file=None, feature_names=df.columns, filled=True, rounded=True,\n",
    "                      special_characters=True, rotate=False, precision=precision, **kwargs)\n",
    "    return graphviz.Source(re.sub('Tree {', f'Tree {{ size={size}; ratio={ratio}', s))\n"
   ]
  },
  {
   "cell_type": "markdown",
   "id": "86",
   "metadata": {
    "id": "hNoFPchnYRZP"
   },
   "source": [
    "Parameters:\n",
    "    - t: Trained decision tree model\n",
    "    - df: DataFrame containing feature names\n",
    "    - size: Size of the tree diagram\n",
    "    - ratio: Ratio of the tree diagram\n",
    "    - precision: Decimal precision for node values\n",
    "    - **kwargs: Additional keyword arguments for export_graphviz"
   ]
  },
  {
   "cell_type": "code",
   "execution_count": null,
   "id": "87",
   "metadata": {
    "colab": {
     "base_uri": "https://localhost:8080/",
     "height": 500
    },
    "executionInfo": {
     "elapsed": 521,
     "status": "ok",
     "timestamp": 1725558065111,
     "user": {
      "displayName": "Bashaar Dhoot",
      "userId": "04066267376811464441"
     },
     "user_tz": -60
    },
    "id": "03dadb16-a295-49e9-b7ed-b8ef6a8d372b",
    "outputId": "5fb2c5a9-c6bb-44e2-dcbe-14d5fa94f312"
   },
   "outputs": [],
   "source": [
    "draw_tree(m, trn_xs, size=10)"
   ]
  },
  {
   "cell_type": "markdown",
   "id": "88",
   "metadata": {
    "id": "RZ7NFF0q07PE"
   },
   "source": [
    "### Function `gini`:\n",
    "- The function `gini` calculates the Gini impurity for a subset of the data.\n",
    "- It takes a condition `cond` as input, which is used to filter rows from the DataFrame `df` based on the condition.\n",
    "- `act` represents the dependent variable (`dep`) values where the condition is met.\n",
    "- The Gini impurity is computed using the formula:\n",
    "  \\[\n",
    "  1 - (\\text{mean of act})^2 - (1 - \\text{mean of act})^2\n",
    "  \\]\n",
    "  This measures the impurity of the data, where lower values indicate more homogeneity.\n",
    "- The function is then applied to two conditions:\n",
    "  - Rows where `CryoSleep == 'noSleep'`.\n",
    "  - Rows where `CryoSleep == 'sleep'`."
   ]
  },
  {
   "cell_type": "code",
   "execution_count": null,
   "id": "89",
   "metadata": {
    "id": "5103a702-b429-429c-bdfe-a044a7b474f4"
   },
   "outputs": [],
   "source": [
    "def gini(cond):\n",
    "    act = df.loc[cond, dep]\n",
    "    return 1 - act.mean()**2 - (1-act).mean()**2"
   ]
  },
  {
   "cell_type": "markdown",
   "id": "90",
   "metadata": {
    "id": "XOnkiygU1A1l"
   },
   "source": [
    "### Applying Gini:\n",
    "- `gini(df.CryoSleep=='noSleep')` calculates the Gini impurity for rows where `CryoSleep` is labeled as `'noSleep'`.\n",
    "- `gini(df.CryoSleep=='sleep')` calculates the Gini impurity for rows where `CryoSleep` is labeled as `'sleep'`."
   ]
  },
  {
   "cell_type": "code",
   "execution_count": null,
   "id": "91",
   "metadata": {
    "colab": {
     "base_uri": "https://localhost:8080/"
    },
    "executionInfo": {
     "elapsed": 4,
     "status": "ok",
     "timestamp": 1725558071964,
     "user": {
      "displayName": "Bashaar Dhoot",
      "userId": "04066267376811464441"
     },
     "user_tz": -60
    },
    "id": "260bc2b4-a0ca-4cf3-806c-414258ce8f55",
    "outputId": "dbaee37e-21ac-439c-eb15-ab6d1fb2daf0"
   },
   "outputs": [],
   "source": [
    "gini(df.CryoSleep=='noSleep'), gini(df.CryoSleep=='sleep')"
   ]
  },
  {
   "cell_type": "markdown",
   "id": "92",
   "metadata": {
    "id": "uNe_KPWk1FWZ"
   },
   "source": [
    "### Calculating Mean Absolute Error:"
   ]
  },
  {
   "cell_type": "code",
   "execution_count": null,
   "id": "93",
   "metadata": {
    "colab": {
     "base_uri": "https://localhost:8080/"
    },
    "executionInfo": {
     "elapsed": 518,
     "status": "ok",
     "timestamp": 1725558074929,
     "user": {
      "displayName": "Bashaar Dhoot",
      "userId": "04066267376811464441"
     },
     "user_tz": -60
    },
    "id": "b0a6d27d-8720-4f93-80dc-32d192b7960e",
    "outputId": "96f90e1a-5d8b-4c90-9440-e79592710c3b"
   },
   "outputs": [],
   "source": [
    "mean_absolute_error(val_y, m.predict(val_xs))"
   ]
  },
  {
   "cell_type": "markdown",
   "id": "94",
   "metadata": {
    "id": "eXOG0H5D1JQm"
   },
   "source": [
    "- `mean_absolute_error(val_y, m.predict(val_xs))` calculates the mean absolute error (MAE) between the actual values (`val_y`) and the predicted values from the model (`m.predict(val_xs)`).\n",
    "  - `val_y` represents the actual target values.\n",
    "  - `m.predict(val_xs)` represents the model's predicted values based on the validation set `val_xs`.\n",
    "  - The MAE gives an indication of the average error in predictions made by the model.\n",
    "\n",
    "  ### Interpretation of the Result:\n",
    "\n",
    "- The **Mean Absolute Error (MAE)** of `0.2585` means that, on average, the model's predictions are off by around **0.2585** units from the actual values.\n",
    "- MAE is a good indicator of how well your model is performing, with a lower value indicating better predictive accuracy."
   ]
  },
  {
   "cell_type": "markdown",
   "id": "95",
   "metadata": {
    "id": "khqqfaDu819b"
   },
   "source": [
    "### Decision Tree Model Training and Evaluation\n",
    "\n",
    "- `m = DecisionTreeClassifier(min_samples_leaf=50)`: Creates a decision tree classifier object with a minimum of 50 samples required to be at a leaf node. This helps prevent overfitting and creates a more generalized model.\n"
   ]
  },
  {
   "cell_type": "code",
   "execution_count": null,
   "id": "96",
   "metadata": {
    "colab": {
     "base_uri": "https://localhost:8080/",
     "height": 734
    },
    "executionInfo": {
     "elapsed": 584,
     "status": "ok",
     "timestamp": 1725558077932,
     "user": {
      "displayName": "Bashaar Dhoot",
      "userId": "04066267376811464441"
     },
     "user_tz": -60
    },
    "id": "b6684db0-9579-40da-86c3-0cb61d2543af",
    "outputId": "9802cb5b-a63e-4d0c-9c0d-8a3855b5e1aa"
   },
   "outputs": [],
   "source": [
    "m = DecisionTreeClassifier(min_samples_leaf=50)\n",
    "m.fit(trn_xs, trn_y)\n",
    "draw_tree(m, trn_xs, size=12)"
   ]
  },
  {
   "cell_type": "markdown",
   "id": "97",
   "metadata": {
    "id": "oX-yhRTQ8_FM"
   },
   "source": [
    "- `m.fit(trn_xs, trn_y)`: Trains the decision tree classifier using the training features (`trn_xs`) and target variables (`trn_y`).\n",
    "\n",
    "- `draw_tree(m, trn_xs, size=12)`: Visualizes the trained decision tree. The `draw_tree` function (defined elsewhere in the code) likely uses `export_graphviz` from `sklearn.tree` to generate a graphical representation of the tree structure."
   ]
  },
  {
   "cell_type": "code",
   "execution_count": null,
   "id": "98",
   "metadata": {
    "colab": {
     "base_uri": "https://localhost:8080/"
    },
    "executionInfo": {
     "elapsed": 432,
     "status": "ok",
     "timestamp": 1725558083025,
     "user": {
      "displayName": "Bashaar Dhoot",
      "userId": "04066267376811464441"
     },
     "user_tz": -60
    },
    "id": "ba04e930-2bf7-4ab5-8c7c-a0f7c4218679",
    "outputId": "1c0a3708-236a-4299-d25f-1baf3535cc24"
   },
   "outputs": [],
   "source": [
    "mean_absolute_error(val_y, m.predict(val_xs))"
   ]
  },
  {
   "cell_type": "markdown",
   "id": "99",
   "metadata": {
    "id": "8aT2awsl9FiL"
   },
   "source": [
    "- `mean_absolute_error(val_y, m.predict(val_xs))`:  Evaluates the model's performance on the validation set.\n",
    "    - `m.predict(val_xs)` generates predictions on the validation features.\n",
    "    - `mean_absolute_error` calculates the average absolute difference between the predicted and actual values.\n",
    "\n",
    "- `0.2667893284268629`: This is the calculated Mean Absolute Error (MAE).  An MAE of 0.2668 indicates that, on average, the model's predictions are off by about 0.2668 units from the actual values."
   ]
  },
  {
   "cell_type": "markdown",
   "id": "100",
   "metadata": {
    "id": "nfEVYfTj9QEL"
   },
   "source": [
    "### Generate and Save Predictions"
   ]
  },
  {
   "cell_type": "code",
   "execution_count": null,
   "id": "101",
   "metadata": {
    "id": "5ff682eb-6b80-45ea-bfce-021ee1e5900d"
   },
   "outputs": [],
   "source": [
    "tst_xs,_ = xs_y(tst_df)\n",
    "\n",
    "def subm(preds, suff):\n",
    "    tst_df['Transported'] = preds\n",
    "    sub_df = tst_df[['PassengerId','Transported']]\n",
    "    sub_df.to_csv(f'sub-{suff}.csv', index=False)\n",
    "\n",
    "subm(m.predict(tst_xs), 'tree')"
   ]
  },
  {
   "cell_type": "code",
   "execution_count": null,
   "id": "102",
   "metadata": {
    "id": "7bc7f548-7624-4713-be41-da5e717f23bb"
   },
   "outputs": [],
   "source": [
    "sub_df = pd.read_csv('sub-tree.csv')"
   ]
  },
  {
   "cell_type": "code",
   "execution_count": null,
   "id": "103",
   "metadata": {
    "id": "0f0aac64-aab8-43a2-86f8-2aea19931376"
   },
   "outputs": [],
   "source": [
    "sub_df['Transported'] = sub_df['Transported'].astype(bool)"
   ]
  },
  {
   "cell_type": "code",
   "execution_count": null,
   "id": "104",
   "metadata": {
    "colab": {
     "base_uri": "https://localhost:8080/",
     "height": 206
    },
    "executionInfo": {
     "elapsed": 9,
     "status": "ok",
     "timestamp": 1725558159427,
     "user": {
      "displayName": "Bashaar Dhoot",
      "userId": "04066267376811464441"
     },
     "user_tz": -60
    },
    "id": "4d6f7567-060d-4744-9d01-24a6bd4f188b",
    "outputId": "1cc11764-dc30-4aa1-d84b-938f6514c207"
   },
   "outputs": [],
   "source": [
    "sub_df.head()"
   ]
  },
  {
   "cell_type": "code",
   "execution_count": null,
   "id": "105",
   "metadata": {
    "id": "681c8128-6b93-49d5-84a9-461be781c05c"
   },
   "outputs": [],
   "source": [
    "sub_df.to_csv('subTree.csv', index=False)"
   ]
  },
  {
   "cell_type": "markdown",
   "id": "106",
   "metadata": {
    "id": "j6lIDKq59UNK"
   },
   "source": [
    "- `tst_xs,_ = xs_y(tst_df)`: Extracts features (`tst_xs`) from the test dataset (`tst_df`) using the `xs_y` function (defined previously). The `_` is used to discard the target variable (which is `None` for the test set).\n",
    "\n",
    "- `def subm(preds, suff)`: Defines a function `subm` to create a submission file with predictions.\n",
    "    - `preds`: Predictions for the test set.\n",
    "    - `suff`: Suffix for the filename.\n",
    "\n",
    "- `tst_df['Transported'] = preds`: Adds the predictions (`preds`) as a new column named \"Transported\" to the test DataFrame (`tst_df`).\n",
    "\n",
    "- `sub_df = tst_df[['PassengerId','Transported']]`: Creates a new DataFrame `sub_df` containing only the 'PassengerId' and 'Transported' columns. This is typically the format required for submitting predictions to a competition or evaluation platform.\n",
    "\n",
    "- `sub_df.to_csv(f'sub-{suff}.csv', index=False)`: Saves the `sub_df` DataFrame to a CSV file. The filename is generated using an f-string with the suffix (`suff`) provided. `index=False` ensures that the row indices are not included in the CSV file.\n",
    "\n",
    "- `subm(m.predict(tst_xs), 'tree')`: Calls the `subm` function to generate and save predictions from the trained decision tree model (`m`) on the test features (`tst_xs`). The suffix 'tree' is used for the filename, indicating that these are predictions from a decision tree model."
   ]
  },
  {
   "cell_type": "markdown",
   "id": "107",
   "metadata": {
    "id": "Zcgk-JDUSCbo"
   },
   "source": [
    "### The Random Forest"
   ]
  },
  {
   "cell_type": "markdown",
   "id": "108",
   "metadata": {
    "id": "Cn2pgt1i9mZR"
   },
   "source": [
    "### Building a Basic Ensemble of Decision Trees"
   ]
  },
  {
   "cell_type": "code",
   "execution_count": null,
   "id": "109",
   "metadata": {
    "id": "0e630d57-17da-4407-a0f0-1c6c86a8ce05"
   },
   "outputs": [],
   "source": [
    "def get_tree(prop=0.75):\n",
    "    n = len(trn_y)\n",
    "    idxs = random.choice(n, int(n*prop))\n",
    "    return DecisionTreeClassifier(min_samples_leaf=5).fit(trn_xs.iloc[idxs], trn_y.iloc[idxs])"
   ]
  },
  {
   "cell_type": "markdown",
   "id": "110",
   "metadata": {
    "id": "OnQqZfai9qt2"
   },
   "source": [
    "- `def get_tree(prop=0.75)`: Defines a function to create a decision tree with a subset of the training data.\n",
    "    - `prop`: Proportion of the training data to use (default is 75%).\n",
    "    - `n = len(trn_y)`: Gets the number of training samples.\n",
    "    - `idxs = random.choice(n, int(n*prop))`:  Randomly selects indices for the subset.\n",
    "    - `return DecisionTreeClassifier(min_samples_leaf=5).fit(...)`: Creates and trains a decision tree using the subset.\n"
   ]
  },
  {
   "cell_type": "code",
   "execution_count": null,
   "id": "111",
   "metadata": {
    "id": "9697e1dc-4eb3-4bde-b2eb-528ecd1027e8"
   },
   "outputs": [],
   "source": [
    "trees = [get_tree() for t in range(100)]"
   ]
  },
  {
   "cell_type": "code",
   "execution_count": null,
   "id": "112",
   "metadata": {
    "colab": {
     "base_uri": "https://localhost:8080/"
    },
    "executionInfo": {
     "elapsed": 523,
     "status": "ok",
     "timestamp": 1725558187982,
     "user": {
      "displayName": "Bashaar Dhoot",
      "userId": "04066267376811464441"
     },
     "user_tz": -60
    },
    "id": "70b370e5-f4c5-4d81-87e4-50f2c2269626",
    "outputId": "fd3e899d-264c-4c08-bbc5-0d8dbeafd500"
   },
   "outputs": [],
   "source": [
    "all_probs = [t.predict(val_xs) for t in trees]\n",
    "avg_probs = np.stack(all_probs).mean(0)\n",
    "\n",
    "mean_absolute_error(val_y, avg_probs)"
   ]
  },
  {
   "cell_type": "markdown",
   "id": "113",
   "metadata": {
    "id": "qHldh3029xTK"
   },
   "source": [
    "- `trees = [get_tree() for t in range(100)]`: Creates a list of 100 decision trees by calling `get_tree()` repeatedly. Each tree is trained on a different random subset of the training data.\n",
    "\n",
    "- `all_probs = [t.predict(val_xs) for t in trees]`: Gets predictions from each tree on the validation set (`val_xs`).\n",
    "\n",
    "- `avg_probs = np.stack(all_probs).mean(0)`: Calculates the average prediction across all trees.\n",
    "\n",
    "- `mean_absolute_error(val_y, avg_probs)`: Evaluates the average predictions using mean absolute error (MAE).\n",
    "\n",
    "- `0.3256163753449862`: The calculated MAE for the ensemble predictions. This indicates the average error of the ensemble model on the validation set."
   ]
  },
  {
   "cell_type": "markdown",
   "id": "114",
   "metadata": {
    "id": "BttfTZIy943R"
   },
   "source": [
    "### Random Forest Classifier"
   ]
  },
  {
   "cell_type": "code",
   "execution_count": null,
   "id": "115",
   "metadata": {
    "colab": {
     "base_uri": "https://localhost:8080/"
    },
    "executionInfo": {
     "elapsed": 1023,
     "status": "ok",
     "timestamp": 1725558191351,
     "user": {
      "displayName": "Bashaar Dhoot",
      "userId": "04066267376811464441"
     },
     "user_tz": -60
    },
    "id": "f174c8c9-c111-4812-99c2-058679ab91ed",
    "outputId": "8caf6852-3811-4def-dc05-885a10c0db94"
   },
   "outputs": [],
   "source": [
    "from sklearn.ensemble import RandomForestClassifier, GradientBoostingClassifier\n",
    "random_state = 123\n",
    "rf = RandomForestClassifier(100, min_samples_leaf=5)\n",
    "classifier  = GradientBoostingClassifier(random_state=random_state)\n",
    "rf.fit(trn_xs, trn_y);\n",
    "mean_absolute_error(val_y, rf.predict(val_xs))"
   ]
  },
  {
   "cell_type": "markdown",
   "id": "116",
   "metadata": {
    "id": "oQI_6GLo9-IN"
   },
   "source": [
    "- `from sklearn.ensemble import RandomForestClassifier, GradientBoostingClassifier`: Imports the `RandomForestClassifier` and `GradientBoostingClassifier` classes from scikit-learn.\n",
    "\n",
    "- `random_state = 123`: Sets a random state for reproducibility. This ensures that the random forest will produce the same results each time the code is run with the same data.\n",
    "\n",
    "- `rf = RandomForestClassifier(100, min_samples_leaf=5)`: Creates a `RandomForestClassifier` object.\n",
    "    - `100`:  Specifies that the forest should have 100 trees.\n",
    "    - `min_samples_leaf=5`: Sets the minimum number of samples required to be at a leaf node (similar to the decision tree).\n",
    "\n",
    "- `classifier = GradientBoostingClassifier(random_state=random_state)`: Creates a `GradientBoostingClassifier` object with the specified random state. Although this line of code is included, it is not used in the rest of the provided code snippet.\n",
    "\n",
    "- `rf.fit(trn_xs, trn_y)`: Trains the random forest classifier on the training data (`trn_xs` and `trn_y`).\n",
    "\n",
    "- `mean_absolute_error(val_y, rf.predict(val_xs))`: Evaluates the model's performance on the validation set (`val_xs` and `val_y`) using mean absolute error."
   ]
  },
  {
   "cell_type": "markdown",
   "id": "117",
   "metadata": {
    "id": "0tSk2mw2-Ptm"
   },
   "source": [
    "### Random Forest Results\n",
    "\n",
    "- **Mean Absolute Error (MAE):** 0.2626\n",
    "\n",
    "This indicates that the random forest model performs well, with an average prediction error of approximately 0.2626 units.\n",
    "\n",
    "**Comparison:**\n",
    "\n",
    "This model shows improvement over previous models:\n",
    "\n",
    "- Single Decision Tree (min_samples_leaf=50): MAE of 0.2668\n",
    "- Basic Ensemble Method: MAE of 0.3256\n",
    "\n",
    "**Conclusion:**\n",
    "\n",
    "The random forest demonstrates the effectiveness of ensemble learning in achieving higher prediction accuracy. Further improvements might be possible through hyperparameter tuning or exploring other ensemble methods like Gradient Boosting."
   ]
  },
  {
   "cell_type": "code",
   "execution_count": null,
   "id": "118",
   "metadata": {
    "id": "a8c07199-6f73-4097-8d87-ee413be0be6a"
   },
   "outputs": [],
   "source": [
    "subm(rf.predict(tst_xs), 'rf')"
   ]
  },
  {
   "cell_type": "code",
   "execution_count": null,
   "id": "119",
   "metadata": {
    "id": "87849b31-34ca-48b1-89d3-3cdb7fef4ac1"
   },
   "outputs": [],
   "source": [
    "rfdf = pd.read_csv('sub-rf.csv')"
   ]
  },
  {
   "cell_type": "code",
   "execution_count": null,
   "id": "120",
   "metadata": {
    "id": "cb61e3a9-4908-4cc3-a0ff-edaddfe0eecf"
   },
   "outputs": [],
   "source": [
    "rfdf['Transported'] = rfdf['Transported'].astype(bool)"
   ]
  },
  {
   "cell_type": "code",
   "execution_count": null,
   "id": "121",
   "metadata": {
    "id": "0e17f98e-aa0b-42b8-a5b4-9db6b5fa27cd"
   },
   "outputs": [],
   "source": [
    "rfdf.to_csv('subrf.csv', index=False)"
   ]
  },
  {
   "cell_type": "code",
   "execution_count": null,
   "id": "122",
   "metadata": {
    "colab": {
     "base_uri": "https://localhost:8080/",
     "height": 430
    },
    "executionInfo": {
     "elapsed": 504,
     "status": "ok",
     "timestamp": 1725558206972,
     "user": {
      "displayName": "Bashaar Dhoot",
      "userId": "04066267376811464441"
     },
     "user_tz": -60
    },
    "id": "60f6c1c4-8a96-466f-9dbc-38b25c5adedb",
    "outputId": "e3a8b099-f0a6-4098-e039-279556fb423b"
   },
   "outputs": [],
   "source": [
    "pd.DataFrame(dict(cols=trn_xs.columns, imp=m.feature_importances_)).plot('cols', 'imp', 'barh');"
   ]
  },
  {
   "cell_type": "code",
   "execution_count": null,
   "id": "123",
   "metadata": {
    "id": "56607b53-41b3-4251-b406-87e27ae163a5"
   },
   "outputs": [],
   "source": []
  }
 ],
 "metadata": {
  "accelerator": "GPU",
  "colab": {
   "gpuType": "A100",
   "machine_shape": "hm",
   "provenance": []
  },
  "kernelspec": {
   "display_name": "Python 3 (ipykernel)",
   "language": "python",
   "name": "python3"
  },
  "language_info": {
   "codemirror_mode": {
    "name": "ipython",
    "version": 3
   },
   "file_extension": ".py",
   "mimetype": "text/x-python",
   "name": "python",
   "nbconvert_exporter": "python",
   "pygments_lexer": "ipython3",
   "version": "3.13.3"
  }
 },
 "nbformat": 4,
 "nbformat_minor": 5
}
