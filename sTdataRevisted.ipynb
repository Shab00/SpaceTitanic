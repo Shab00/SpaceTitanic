{
 "cells": [
  {
   "cell_type": "markdown",
   "id": "0",
   "metadata": {
    "id": "GI2JSxxeE_JK"
   },
   "source": [
    "# Space Titanic: Predicting Survival in a Cosmic Catastrophe-part2\n",
    "\n",
    "## Project Overview\n",
    "\n",
    "The \"Space Titanic\" project is a machine learning challenge inspired by the Titanic survival prediction problem, but set in a futuristic space travel scenario. The goal is to predict the survival chances of passengers on a space voyage based on various features, simulating a cosmic catastrophe akin to the historical Titanic disaster.\n"
   ]
  },
  {
   "cell_type": "markdown",
   "id": "1",
   "metadata": {
    "id": "ceCeq2sPFL-4"
   },
   "source": [
    "## Objectives\n",
    "\n",
    "1. **Data Exploration**: Analyze and preprocess the dataset to handle missing values, encode categorical variables, and normalize numerical features.\n",
    "2. **Feature Engineering**: Create new features and transform existing ones to improve model performance.\n",
    "3. **Model Training**: Build and train various machine learning models, including logistic regression, decision trees, and ensemble methods, to predict survival chances.\n",
    "4. **Evaluation**: Assess model performance using metrics such as accuracy, precision, recall, and ROC-AUC.\n"
   ]
  },
  {
   "cell_type": "markdown",
   "id": "2",
   "metadata": {
    "id": "Fjhx_L-_FTyG"
   },
   "source": [
    "## Approach\n",
    "\n",
    "- **Data Preprocessing**: Clean and prepare the data for modeling.\n",
    "- **Exploratory Data Analysis (EDA)**: Gain insights into the dataset and identify patterns and correlations.\n",
    "- **Model Building**: Implement and tune different machine learning models to find the best predictor for survival.\n",
    "- **Validation and Testing**: Evaluate model performance on validation and test datasets to ensure generalizability.\n"
   ]
  },
  {
   "cell_type": "markdown",
   "id": "3",
   "metadata": {
    "id": "pSAXmvvkFpPj"
   },
   "source": [
    "## Setup and Installation\n",
    "\n",
    "To get started with the Space Titanic project, you need to install several Python libraries. These libraries are essential for data handling, visualization, and model building. You can install them using the following commands:\n"
   ]
  },
  {
   "cell_type": "code",
   "execution_count": null,
   "id": "4",
   "metadata": {
    "colab": {
     "base_uri": "https://localhost:8080/"
    },
    "executionInfo": {
     "elapsed": 43201,
     "status": "ok",
     "timestamp": 1728419800115,
     "user": {
      "displayName": "Bashaar Dhoot",
      "userId": "04066267376811464441"
     },
     "user_tz": -60
    },
    "id": "04b70142-6d09-4f69-9a90-34cd037bc14b",
    "outputId": "0fc62897-70a6-4d6b-a19d-a950cca5c342"
   },
   "outputs": [],
   "source": [
    "!pip install opendatasets\n",
    "!pip install pandas\n",
    "%pip install seaborn\n",
    "%pip install graphviz\n",
    "%pip install fastai\n",
    "%pip install ipywidgets\n",
    "import pandas as pd\n",
    "pd.set_option('display.max_columns', None)"
   ]
  },
  {
   "cell_type": "markdown",
   "id": "5",
   "metadata": {
    "id": "yJtP3d3wF9qK"
   },
   "source": [
    "# Data Loading and Inspection\n",
    "\n",
    "The following code snippet demonstrates how to load and inspect the dataset for the Space Titanic project:"
   ]
  },
  {
   "cell_type": "code",
   "execution_count": null,
   "id": "6",
   "metadata": {
    "executionInfo": {
     "elapsed": 1408,
     "status": "ok",
     "timestamp": 1728419804841,
     "user": {
      "displayName": "Bashaar Dhoot",
      "userId": "04066267376811464441"
     },
     "user_tz": -60
    },
    "id": "b2858525-4027-4c1f-a2db-4dafaedcb33e"
   },
   "outputs": [],
   "source": [
    "from fastai.imports import *\n",
    "np.set_printoptions(linewidth=130)\n",
    "import pandas as pd"
   ]
  },
  {
   "cell_type": "code",
   "execution_count": null,
   "id": "7",
   "metadata": {
    "colab": {
     "base_uri": "https://localhost:8080/"
    },
    "executionInfo": {
     "elapsed": 23683,
     "status": "ok",
     "timestamp": 1728419830556,
     "user": {
      "displayName": "Bashaar Dhoot",
      "userId": "04066267376811464441"
     },
     "user_tz": -60
    },
    "id": "ZozWRBT3QT88",
    "outputId": "5cd53ad9-502a-49c6-c646-49b56bc2ba83"
   },
   "outputs": [],
   "source": [
    "from google.colab import drive\n",
    "drive.mount('/content/drive')"
   ]
  },
  {
   "cell_type": "code",
   "execution_count": null,
   "id": "8",
   "metadata": {
    "executionInfo": {
     "elapsed": 3096,
     "status": "ok",
     "timestamp": 1728419835456,
     "user": {
      "displayName": "Bashaar Dhoot",
      "userId": "04066267376811464441"
     },
     "user_tz": -60
    },
    "id": "ce03009f-4725-48a0-9b1b-060e3486b1e7"
   },
   "outputs": [],
   "source": [
    "df = pd.read_csv('/content/drive/MyDrive/Colab Notebooks/spaceship-titanic/train.csv')\n",
    "tst_df = pd.read_csv('/content/drive/MyDrive/Colab Notebooks/spaceship-titanic/test.csv')"
   ]
  },
  {
   "cell_type": "markdown",
   "id": "9",
   "metadata": {
    "id": "4Ak9EjTQGd9v"
   },
   "source": [
    "## Training Dataset Overview\n",
    "\n",
    "The training dataset contains the following columns:\n"
   ]
  },
  {
   "cell_type": "markdown",
   "id": "10",
   "metadata": {
    "id": "PFNLYZXEG3NI"
   },
   "source": [
    "# Data Preprocessing\n",
    "\n",
    "The following code snippet demonstrates the data preprocessing steps applied to the training and test datasets:"
   ]
  },
  {
   "cell_type": "markdown",
   "id": "11",
   "metadata": {
    "id": "qRaAk7plRnoS"
   },
   "source": [
    "# Spaceship Titanic Feature Engineering Review\n",
    "\n",
    "## Key Components:"
   ]
  },
  {
   "cell_type": "code",
   "execution_count": null,
   "id": "12",
   "metadata": {
    "executionInfo": {
     "elapsed": 282,
     "status": "ok",
     "timestamp": 1728419838953,
     "user": {
      "displayName": "Bashaar Dhoot",
      "userId": "04066267376811464441"
     },
     "user_tz": -60
    },
    "id": "03378845-b884-4fe8-9627-acecfaf9aca0"
   },
   "outputs": [],
   "source": [
    "modes = df.mode().iloc[0]"
   ]
  },
  {
   "cell_type": "code",
   "execution_count": null,
   "id": "13",
   "metadata": {
    "colab": {
     "base_uri": "https://localhost:8080/"
    },
    "executionInfo": {
     "elapsed": 761,
     "status": "ok",
     "timestamp": 1728419843562,
     "user": {
      "displayName": "Bashaar Dhoot",
      "userId": "04066267376811464441"
     },
     "user_tz": -60
    },
    "id": "DXHMSh4ImQd9",
    "outputId": "57cdf1d6-792f-478a-df13-87961ab6f8d3"
   },
   "outputs": [],
   "source": [
    "from sklearn.preprocessing import StandardScaler, OrdinalEncoder\n",
    "from sklearn.cluster import KMeans\n",
    "import numpy as np\n",
    "import pandas as pd\n",
    "\n",
    "def add_data(df):\n",
    "    df['FoodCourt'] = df.FoodCourt.fillna(0)\n",
    "    df['ShoppingMall'] = df.ShoppingMall.fillna(0)\n",
    "    df['RoomService'] = df.RoomService.fillna(0)\n",
    "    df['Spa'] = df.Spa.fillna(0)\n",
    "    df['VRDeck'] = df.VRDeck.fillna(0)\n",
    "    df.fillna(modes, inplace=True)\n",
    "\n",
    "    df['Age^2'] = df['Age'] ** 2\n",
    "    df['PaidAmenities'] = ((df['FoodCourt'] > 0) | (df['ShoppingMall'] > 0) |\n",
    "                           (df['RoomService'] > 0) | (df['Spa'] > 0) |\n",
    "                           (df['VRDeck'] > 0)).astype(int)\n",
    "    df['RSage'] = df['RoomService'] / df['Age']\n",
    "    df['RSage'] = df['RSage'].fillna(0)\n",
    "    df['Group'] = pd.to_numeric(df['PassengerId'].str.split('_').str[0])\n",
    "    df[['Deck', 'Num', 'Side']] = df['Cabin'].str.split('/', expand=True)\n",
    "    df['Distance_from_G'] = abs(df['Deck'].apply(ord) - ord('G'))\n",
    "\n",
    "    deck_clusters = {'A': 'Luxury', 'B': 'Luxury', 'C': 'Luxury',\n",
    "                     'D': 'Standard', 'E': 'Standard', 'F': 'Standard',\n",
    "                     'G': 'Lifeboat'}\n",
    "    df['DeckCluster'] = df['Deck'].map(deck_clusters)\n",
    "    df['HomePlanet_Deck'] = df['HomePlanet'] + '_' + df['Deck']\n",
    "\n",
    "    group_frequency = df['Group'].value_counts(normalize=True)\n",
    "    df['Group_freq'] = df['Group'].map(group_frequency)\n",
    "\n",
    "    df['TotalSpent'] = df['FoodCourt'] + df['ShoppingMall'] + df['RoomService'] + df['Spa'] + df['VRDeck']\n",
    "    df['PctFoodCourt'] = (df['FoodCourt'] / df['TotalSpent']).fillna(0)\n",
    "    df['LuxurySpender'] = ((df['Spa'] > 1000) | (df['VRDeck'] > 1000)).astype(int)\n",
    "    df['Fare'] = df['TotalSpent']\n",
    "    df['Age*Fare'] = df['Age'] * df['Fare']\n",
    "    df['Fare^2'] = df['Fare'] ** 2\n",
    "    df['LogFare'] = np.log(df['Fare'] + 1)\n",
    "    df['logRSage'] = np.log(df['RSage'] + 1)\n",
    "    df['logTotal'] = np.log(df['TotalSpent'] + 1)\n",
    "    df['logPctFC'] = np.log(df['PctFoodCourt'] + 1)\n",
    "    df['logPctFC_Age_interaction'] = df['logPctFC'] * df['Age']\n",
    "    df['logFare_Age_interaction'] = df['LogFare'] * df['Age']\n",
    "    df['logFare^2'] = np.log(df['Fare^2'] + 1)\n",
    "    df['logAge'] = np.log(df['Age'] + 1)\n",
    "\n",
    "    df['LuxurySpending'] = df[['Spa', 'VRDeck']].sum(axis=1)\n",
    "    df['BasicSpending'] = df[['RoomService', 'FoodCourt']].sum(axis=1)\n",
    "    df['TotalSpendingBin'] = pd.cut(df['Fare'], bins=[0, 100, 500, 1000, np.inf], labels=['Low', 'Medium', 'High', 'VeryHigh'], include_lowest=True)\n",
    "\n",
    "    spending_cols = ['RoomService', 'FoodCourt', 'ShoppingMall', 'Spa', 'VRDeck']\n",
    "    kmeans = KMeans(n_clusters=3)\n",
    "    df['SpendingCluster'] = kmeans.fit_predict(df[spending_cols])\n",
    "\n",
    "    df['logLuxurySpending'] = np.log(df['LuxurySpending'] + 1)\n",
    "    df['logBasicSpending'] = np.log(df['BasicSpending'] + 1)\n",
    "\n",
    "    scaler = StandardScaler()\n",
    "    df['logPctFC_scaled'] = scaler.fit_transform(df[['logPctFC']])\n",
    "    df['logFare_LuxurySpender_GroupFreq_interaction'] = df['LogFare'] * df['LuxurySpender'] * df['Group_freq']\n",
    "\n",
    "    df['VIP'] = df['VIP'].astype(int)\n",
    "    df['CryoSleep'] = df['CryoSleep'].astype(int)\n",
    "    df['CryoXvp'] = df['CryoSleep'] * df['VIP']\n",
    "    df['zero_fare'] = (df['LogFare'] == 0).astype(int)\n",
    "    df['logFare_adj'] = df['LogFare'].replace(0, np.nan).fillna(df['LogFare'].median())\n",
    "\n",
    "    kmeans = KMeans(n_clusters=5, random_state=123)\n",
    "    df['spending_cluster'] = kmeans.fit_predict(df[['LogFare', 'LuxurySpender', 'Group']])\n",
    "\n",
    "    enc = OrdinalEncoder()\n",
    "    df['deck_ordinal'] = enc.fit_transform(df[['Deck']])\n",
    "\n",
    "    avg_fare_per_planet = df.groupby('HomePlanet')['LogFare'].mean()\n",
    "    df['avg_fare_per_planet'] = df['HomePlanet'].map(avg_fare_per_planet)\n",
    "\n",
    "    df['LastName'] = df['Name'].apply(lambda x: x.split(' ')[-1])\n",
    "    df['FamilySize'] = df.groupby('LastName')['LastName'].transform('count')\n",
    "    df['IsAlone'] = (df['FamilySize'] == 1).astype(int)\n",
    "\n",
    "    df['FamilySize_SpendingCluster'] = df['FamilySize'] * df['SpendingCluster']\n",
    "    df['CryoSleep_FamilySize'] = df['CryoSleep'] * df['FamilySize']\n",
    "    median_fare_per_planet = df.groupby('HomePlanet')['Fare'].median()\n",
    "    df['median_fare_per_planet'] = df['HomePlanet'].map(median_fare_per_planet)\n",
    "    spending_variance_per_planet = df.groupby('HomePlanet')['TotalSpent'].var()\n",
    "    df['spending_variance_per_planet'] = df['HomePlanet'].map(spending_variance_per_planet)\n",
    "\n",
    "    df['FamilySize_LogFare_interaction'] = df['FamilySize'] * df['LogFare']\n",
    "    df['FamilySize^2_LuxurySpending'] = df['FamilySize'] ** 2 * df['LuxurySpending']\n",
    "    df['TotalFamilySpending'] = df.groupby('LastName')['TotalSpent'].transform('sum')\n",
    "    df['logTotalFamilySpending'] = np.log(df['TotalFamilySpending'] + 1)\n",
    "    df['SpendingPerFamilyMember'] = df['TotalFamilySpending'] / df['FamilySize']\n",
    "    df['logSpendingPerFamilyMember'] = np.log(df['SpendingPerFamilyMember'] + 1)\n",
    "\n",
    "    df['PassengerID_numeric'] = df['PassengerId'].apply(lambda x: int(x.split('_')[1]))\n",
    "    df['PassengerSequence'] = df['PassengerID_numeric'].rank(method='dense')\n",
    "\n",
    "    df['VIP_Spend'] = df['VIP'] * df['TotalSpent']\n",
    "    df['logVIP_Spend'] = np.log(df['VIP_Spend'] + 1)\n",
    "\n",
    "    deck_mapping = {'A': 1, 'B': 2, 'C': 3, 'D': 4, 'E': 5, 'F': 6, 'G': 7, 'T': 8}\n",
    "    df['DeckLevel'] = df['Deck'].map(deck_mapping)\n",
    "\n",
    "    df.loc[df['CryoSleep'] == 1, spending_cols] = 0\n",
    "    df['CryoSleep_Spending_Anomaly'] = ((df['CryoSleep'] == 1) & (df[spending_cols].sum(axis=1) > 0)).astype(int)\n",
    "    df['CryoSleep_Age_Interaction'] = df['CryoSleep'] * df['Age']\n",
    "    df['CryoSleep_TotalSpent_Interaction'] = df['CryoSleep'] * df['TotalSpent']\n",
    "    df['CryoSleep'].fillna(0, inplace=True)\n",
    "\n",
    "    # 2. Deck_Side_CryoRate: CryoSleep rate per deck and side combination\n",
    "    df['CabinDeck_Side'] = df['Deck'] + df['Side']  # Creating a combined Deck-Side feature\n",
    "    df['Deck_Side_CryoRate'] = df.groupby('CabinDeck_Side')['CryoSleep'].transform('mean')\n",
    "\n",
    "add_data(df)\n",
    "add_data(tst_df)\n"
   ]
  },
  {
   "cell_type": "markdown",
   "id": "14",
   "metadata": {
    "id": "cRnTXKfKRvo3"
   },
   "source": [
    "## Key Components:\n",
    "\n",
    "### 1. Handling Missing Values:\n",
    "- Columns such as `FoodCourt`, `ShoppingMall`, `RoomService`, `Spa`, and `VRDeck` are filled with 0 where values are missing, as those likely indicate no spending.\n",
    "- Other missing values are filled using the mode of the respective columns.\n",
    "\n",
    "### 2. Feature Transformations and Interactions:\n",
    "- `Age^2`: Square of `Age` is computed.\n",
    "- `PaidAmenities`: Binary flag indicating whether the passenger used any of the amenities (RoomService, Spa, VRDeck, etc.).\n",
    "- `RSage`: Normalizes room service spending by dividing by age.\n",
    "- `Deck`, `Num`, and `Side`: Extracted from the `Cabin` string.\n",
    "- `Distance_from_G`: Computes the distance from Deck G by converting deck letters to ordinal numbers.\n",
    "- Spending-related features like `LuxurySpender`, `PctFoodCourt`, `TotalSpent`, and `LuxurySpending` are derived, reflecting passenger behavior.\n",
    "\n",
    "### 3. Clustering:\n",
    "- KMeans clustering is applied to group spending behaviors (`RoomService`, `FoodCourt`, `ShoppingMall`, `Spa`, `VRDeck`) into 3 clusters, then into 5 clusters in a subsequent step. This could help categorize passengers by their spending patterns.\n",
    "\n",
    "### 4. Log Transformations:\n",
    "- Logarithmic transformations are applied to spending and fare features to normalize skewed distributions, which often improves model performance (`LogFare`, `logRSage`, etc.).\n",
    "\n",
    "### 5. Group and Family Features:\n",
    "- Family-related features such as `FamilySize`, `IsAlone`, `FamilySize_SpendingCluster`, `TotalFamilySpending`, and `SpendingPerFamilyMember` are derived from the `LastName` and `Group` fields.\n",
    "- Interaction terms with `CryoSleep` and `FamilySize` are added, which could capture family behavior dynamics.\n",
    "\n",
    "### 6. CryoSleep Logic:\n",
    "- Passengers marked as being in `CryoSleep` should have no spending, so spending-related columns are set to zero for these passengers.\n",
    "- A new anomaly feature, `CryoSleep_Spending_Anomaly`, checks if `CryoSleep` passengers have any recorded spending, which may indicate data entry errors.\n",
    "- Interaction terms like `CryoSleep_Age_Interaction` and `CryoSleep_TotalSpent_Interaction` are created to capture the effect of `CryoSleep` on age and spending.\n",
    "\n",
    "### 7. Ordinal Encoding and Feature Encoding:\n",
    "- `Deck` is ordinal encoded and assigned numerical values based on deck mapping.\n",
    "- Deck-level features (`DeckLevel`) are created, and CryoSleep rates are calculated per deck-side combination.\n",
    "\n",
    "### Additional Features:\n",
    "\n",
    "- **Passenger ID Breakdown**: The `PassengerId` is split into numeric parts to capture passenger groupings or potential order-related information (`PassengerID_numeric`, `PassengerSequence`).\n",
    "- **VIP Spending**: A specific feature, `VIP_Spend`, is introduced to capture the total spending of VIP passengers.\n",
    "\n",
    "## Conclusion:\n",
    "These engineered features will likely improve the predictive power of your machine learning models by capturing complex relationships between passengers' behaviors and their survival probability."
   ]
  },
  {
   "cell_type": "code",
   "execution_count": null,
   "id": "15",
   "metadata": {
    "colab": {
     "base_uri": "https://localhost:8080/",
     "height": 1000
    },
    "executionInfo": {
     "elapsed": 15151,
     "status": "ok",
     "timestamp": 1728419869867,
     "user": {
      "displayName": "Bashaar Dhoot",
      "userId": "04066267376811464441"
     },
     "user_tz": -60
    },
    "id": "cb918f8b-ac45-45e7-9860-56e3e05c3552",
    "outputId": "f0fbfd9c-0800-46b4-89ca-9e5486dad83c"
   },
   "outputs": [],
   "source": [
    "df.hist(bins=30, figsize=(23, 18))"
   ]
  },
  {
   "cell_type": "markdown",
   "id": "16",
   "metadata": {
    "id": "AQA6-6rKLvNy"
   },
   "source": [
    "One-Hot Encoding for Categorical Columns"
   ]
  },
  {
   "cell_type": "code",
   "execution_count": null,
   "id": "17",
   "metadata": {
    "executionInfo": {
     "elapsed": 1272,
     "status": "ok",
     "timestamp": 1728419877693,
     "user": {
      "displayName": "Bashaar Dhoot",
      "userId": "04066267376811464441"
     },
     "user_tz": -60
    },
    "id": "860d1c5c-0d09-4cb6-9e35-1a31c85f5974"
   },
   "outputs": [],
   "source": [
    "df = pd.get_dummies(df, columns=[\"HomePlanet\",\"Destination\",\"Deck\",\"Side\",\"DeckCluster\",\n",
    "                                 \"HomePlanet_Deck\", \"TotalSpendingBin\", \"CabinDeck_Side\"])\n",
    "\n",
    "tst_df = pd.get_dummies(tst_df, columns=[\"HomePlanet\",\"Destination\",\"Deck\",\"Side\",\"DeckCluster\",\n",
    "                                         \"HomePlanet_Deck\", \"TotalSpendingBin\", \"CabinDeck_Side\"])"
   ]
  },
  {
   "cell_type": "code",
   "execution_count": null,
   "id": "18",
   "metadata": {
    "executionInfo": {
     "elapsed": 301,
     "status": "ok",
     "timestamp": 1728419880358,
     "user": {
      "displayName": "Bashaar Dhoot",
      "userId": "04066267376811464441"
     },
     "user_tz": -60
    },
    "id": "07f82bf3-1a80-46a0-8e10-e157d4345352"
   },
   "outputs": [],
   "source": [
    "def proc_bool(df):\n",
    "    df[\"HomePlanet_Earth\"] = df[\"HomePlanet_Earth\"].astype(int)\n",
    "    df[\"HomePlanet_Europa\"] = df[\"HomePlanet_Europa\"].astype(int)\n",
    "    df[\"HomePlanet_Mars\"] = df[\"HomePlanet_Mars\"].astype(int)\n",
    "    df[\"Destination_55_Cancri-e\"] = df[\"Destination_55 Cancri e\"].astype(int)\n",
    "    df[\"Destination_PSO_J318.5-22\"] = df[\"Destination_PSO J318.5-22\"].astype(int)\n",
    "    df[\"Destination_TRAPPIST-1e\"] = df[\"Destination_TRAPPIST-1e\"].astype(int)\n",
    "    df[\"Deck_A\"] = df[\"Deck_A\"].astype(int)\n",
    "    df[\"Deck_B\"] = df[\"Deck_B\"].astype(int)\n",
    "    df[\"Deck_C\"] = df[\"Deck_C\"].astype(int)\n",
    "    df[\"Deck_D\"] = df[\"Deck_D\"].astype(int)\n",
    "    df[\"Deck_E\"] = df[\"Deck_E\"].astype(int)\n",
    "    df[\"Deck_F\"] = df[\"Deck_F\"].astype(int)\n",
    "    df[\"Deck_G\"] = df[\"Deck_G\"].astype(int)\n",
    "    df[\"Deck_T\"] = df[\"Deck_T\"].astype(int)\n",
    "    df[\"LuxurySpender\"] = df[\"LuxurySpender\"].astype(int)\n",
    "    df['Side_P'] = df['Side_P'].astype(int)\n",
    "    df['Side_S'] = df['Side_S'].astype(int)\n",
    "    df['DeckCluster_Luxury'] = df['DeckCluster_Luxury'].astype(int)\n",
    "    df['DeckCluster_Standard'] = df['DeckCluster_Standard'].astype(int)\n",
    "    df['DeckCluster_Lifeboat'] = df['DeckCluster_Lifeboat'].astype(int)\n",
    "    df['HomePlanet_Deck_Earth_A'] = df['HomePlanet_Deck_Earth_A'].astype(int)\n",
    "    df['HomePlanet_Deck_Earth_B'] = df['HomePlanet_Deck_Earth_B'].astype(int)\n",
    "    df['HomePlanet_Deck_Earth_C'] = df['HomePlanet_Deck_Earth_C'].astype(int)\n",
    "    df['HomePlanet_Deck_Earth_D'] = df['HomePlanet_Deck_Earth_D'].astype(int)\n",
    "    df['HomePlanet_Deck_Earth_E'] = df['HomePlanet_Deck_Earth_E'].astype(int)\n",
    "    df['HomePlanet_Deck_Earth_F'] = df['HomePlanet_Deck_Earth_F'].astype(int)\n",
    "    df['HomePlanet_Deck_Earth_G'] = df['HomePlanet_Deck_Earth_G'].astype(int)\n",
    "    df['HomePlanet_Deck_Europa_A'] = df['HomePlanet_Deck_Europa_A'].astype(int)\n",
    "    df['HomePlanet_Deck_Europa_B'] = df['HomePlanet_Deck_Europa_B'].astype(int)\n",
    "    df['HomePlanet_Deck_Europa_C'] = df['HomePlanet_Deck_Europa_C'].astype(int)\n",
    "    df['HomePlanet_Deck_Europa_D'] = df['HomePlanet_Deck_Europa_D'].astype(int)\n",
    "    df['HomePlanet_Deck_Europa_E'] = df['HomePlanet_Deck_Europa_E'].astype(int)\n",
    "    df['HomePlanet_Deck_Europa_G'] = df['HomePlanet_Deck_Europa_G'].astype(int)\n",
    "    df['HomePlanet_Deck_Europa_T'] = df['HomePlanet_Deck_Europa_T'].astype(int)\n",
    "    df['HomePlanet_Deck_Mars_D'] = df['HomePlanet_Deck_Mars_D'].astype(int)\n",
    "    df['HomePlanet_Deck_Mars_E'] = df['HomePlanet_Deck_Mars_E'].astype(int)\n",
    "    df['HomePlanet_Deck_Mars_F'] = df['HomePlanet_Deck_Mars_F'].astype(int)\n",
    "    df['HomePlanet_Deck_Mars_G'] = df['HomePlanet_Deck_Mars_G'].astype(int)\n",
    "    df['CryoXvp'] = df['CryoXvp'].astype(int)\n",
    "    df['TotalSpendingBin_High'] = df['TotalSpendingBin_High'].astype(int)\n",
    "    df['TotalSpendingBin_Low'] = df['TotalSpendingBin_Low'].astype(int)\n",
    "    df['TotalSpendingBin_Medium'] = df['TotalSpendingBin_Medium'].astype(int)\n",
    "    df['TotalSpendingBin_VeryHigh'] = df['TotalSpendingBin_VeryHigh'].astype(int)\n",
    "    columns_to_convert = [\n",
    "    'CabinDeck_Side_AP', 'CabinDeck_Side_AS', 'CabinDeck_Side_BP',\n",
    "    'CabinDeck_Side_BS', 'CabinDeck_Side_CP', 'CabinDeck_Side_CS',\n",
    "    'CabinDeck_Side_DP', 'CabinDeck_Side_DS', 'CabinDeck_Side_EP',\n",
    "    'CabinDeck_Side_ES', 'CabinDeck_Side_FP', 'CabinDeck_Side_FS',\n",
    "    'CabinDeck_Side_GP', 'CabinDeck_Side_GS', 'CabinDeck_Side_TP',\n",
    "    'CabinDeck_Side_TS'\n",
    "    ]\n",
    "\n",
    "    # Convert the specified columns to integer type\n",
    "    df[columns_to_convert] = df[columns_to_convert].astype(int)\n",
    "\n",
    "proc_bool(df)\n",
    "proc_bool(tst_df)"
   ]
  },
  {
   "cell_type": "code",
   "execution_count": null,
   "id": "19",
   "metadata": {
    "executionInfo": {
     "elapsed": 269,
     "status": "ok",
     "timestamp": 1728419883497,
     "user": {
      "displayName": "Bashaar Dhoot",
      "userId": "04066267376811464441"
     },
     "user_tz": -60
    },
    "id": "19c80e0a-b95b-41df-928b-bb1c5628f77e"
   },
   "outputs": [],
   "source": [
    "df[\"Transported\"] = df[\"Transported\"].astype(int)"
   ]
  },
  {
   "cell_type": "code",
   "execution_count": null,
   "id": "20",
   "metadata": {
    "executionInfo": {
     "elapsed": 1797,
     "status": "ok",
     "timestamp": 1728419887265,
     "user": {
      "displayName": "Bashaar Dhoot",
      "userId": "04066267376811464441"
     },
     "user_tz": -60
    },
    "id": "805eb359-d204-4f9b-b161-4a1394fd73f1"
   },
   "outputs": [],
   "source": [
    "df = df.drop(columns=['Destination_55 Cancri e'])\n",
    "df = df.drop(columns=['Destination_PSO J318.5-22'])\n",
    "df = df.drop(columns=['RoomService'])\n",
    "df = df.drop(columns=['ShoppingMall'])\n",
    "df = df.drop(columns=['VRDeck'])\n",
    "df = df.drop(columns=['Spa'])\n",
    "df = df.drop(columns=['FoodCourt'])\n",
    "tst_df = tst_df.drop(columns=['Destination_55 Cancri e'])\n",
    "tst_df = tst_df.drop(columns=['Destination_PSO J318.5-22'])"
   ]
  },
  {
   "cell_type": "markdown",
   "id": "21",
   "metadata": {
    "id": "tsXSn4OXSS-w"
   },
   "source": [
    "## Heatmap Analysis of Feature Correlations with \"Transported\"\n",
    "\n",
    "This heatmap visualizes the feature correlations with the target variable **\"Transported\"** in the Spaceship Titanic dataset. Below is a detailed breakdown of the heatmap:"
   ]
  },
  {
   "cell_type": "code",
   "execution_count": null,
   "id": "22",
   "metadata": {
    "colab": {
     "base_uri": "https://localhost:8080/",
     "height": 1000
    },
    "executionInfo": {
     "elapsed": 2120,
     "status": "ok",
     "timestamp": 1728419891123,
     "user": {
      "displayName": "Bashaar Dhoot",
      "userId": "04066267376811464441"
     },
     "user_tz": -60
    },
    "id": "MCFhfYQVZ6CK",
    "outputId": "183cfd15-4ad4-40b3-e14d-a749934c1d4a"
   },
   "outputs": [],
   "source": [
    "import seaborn as sns\n",
    "import matplotlib.pyplot as plt\n",
    "\n",
    "# Select only numerical columns for correlation analysis\n",
    "numerical_df = df.select_dtypes(include=['number'])\n",
    "\n",
    "# Compute the correlation matrix\n",
    "corr = numerical_df.corr()\n",
    "\n",
    "# Select the correlations of 'Transported' with other features\n",
    "transported_corr = corr[['Transported']].sort_values(by='Transported', ascending=False)\n",
    "\n",
    "# Increase the figure size\n",
    "plt.figure(figsize=(15, 20))  # Adjust the size for better fit\n",
    "\n",
    "# Create the heatmap with annotations\n",
    "sns.heatmap(transported_corr, annot=True, cmap='coolwarm', vmin=-1, vmax=1, cbar=True)\n",
    "\n",
    "# Rotate the x-axis labels for better visibility\n",
    "plt.xticks(rotation=45, ha='right')\n",
    "\n",
    "# Display the plot\n",
    "plt.show()"
   ]
  },
  {
   "cell_type": "markdown",
   "id": "23",
   "metadata": {
    "id": "ZbN_1dxeScX9"
   },
   "source": [
    "### Description of the Heatmap:\n",
    "\n",
    "- **Heatmap Range**:\n",
    "  - The color scale ranges from **deep blue** (strong negative correlation) to **deep red** (strong positive correlation), with neutral features around zero represented by **pale colors**.\n",
    "\n",
    "### Top Positive Correlations:\n",
    "- **TotalSpendingBin_Low (0.48)**: Passengers with low total spending are highly correlated with being transported.\n",
    "- **CryoSleep_Age_Interaction (0.46)**: The interaction between CryoSleep status and age shows a strong positive correlation with the likelihood of being transported.\n",
    "- **spending_variance_per_planet (0.19)**: The variance in spending patterns by planet of origin correlates positively with being transported.\n",
    "- **DeckCluster_Luxury (0.13)**: Passengers in the luxury deck cluster show a positive correlation.\n",
    "\n",
    "### Top Negative Correlations:\n",
    "- **PaidAmenities (-0.48)**: High spending on amenities is negatively correlated with being transported.\n",
    "- **LogFare (-0.47)**: The logarithm of the fare paid by passengers shows a strong negative correlation with the likelihood of being transported.\n",
    "- **LuxurySpender (-0.38)**: Passengers who spend significantly on luxury goods are less likely to be transported.\n",
    "- **logRSage (-0.28)**: Room service spending normalized by age has a negative impact on being transported.\n",
    "\n",
    "### Moderate Correlations:\n",
    "- **Deck and Cabin Features**: Some deck and cabin-side features show moderate correlations, indicating that where a passenger is located on the ship can influence their chances of being transported.\n",
    "- **Age^2 (-0.046)**: Older passengers have a weak negative correlation with being transported, suggesting that younger passengers may have a slight advantage.\n",
    "\n",
    "### Key Insights:\n",
    "- **Spending Behavior**:\n",
    "  - Passengers who spend less or belong to low-spending categories (e.g., CryoSleep passengers) are more likely to be transported.\n",
    "  - High spenders and luxury passengers are less likely to be transported.\n",
    "\n",
    "- **CryoSleep**:\n",
    "  - Interaction features with CryoSleep show strong positive correlations, indicating that being in CryoSleep increases the chances of being transported, especially when combined with other factors like age and spending.\n",
    "\n",
    "- **Deck Location**:\n",
    "  - The location of passengers, particularly their distance from Deck G, as well as specific deck clusters, plays a significant role in determining their outcome.\n",
    "\n",
    "### Conclusion:\n",
    "This heatmap effectively highlights the importance of **spending**, **cabin**, and **demographic** factors in the Spaceship Titanic dataset. The features at the top (both positively and negatively correlated) should be given special attention during model training, as they have the most influence on the target variable."
   ]
  },
  {
   "cell_type": "markdown",
   "id": "24",
   "metadata": {
    "id": "FpP09QqtNZLD"
   },
   "source": [
    "### Feature Lists and Target Variable"
   ]
  },
  {
   "cell_type": "markdown",
   "id": "25",
   "metadata": {
    "id": "5PcbPaV_eImW"
   },
   "source": [
    "## Final Feature Selection for the Spaceship Titanic Model\n",
    "\n",
    "After conducting extensive feature engineering and experimentation, I have finalized the set of categorical and continuous features that I believe will offer the best predictive performance for the Spaceship Titanic model. These features capture essential patterns related to passenger behavior, spending, cabin location, and demographics, all of which contribute to the likelihood of being **\"Transported\"**."
   ]
  },
  {
   "cell_type": "code",
   "execution_count": null,
   "id": "26",
   "metadata": {
    "executionInfo": {
     "elapsed": 569,
     "status": "ok",
     "timestamp": 1728419910527,
     "user": {
      "displayName": "Bashaar Dhoot",
      "userId": "04066267376811464441"
     },
     "user_tz": -60
    },
    "id": "f9eb233d-7adb-44e8-9214-5fbd2c7c5884"
   },
   "outputs": [],
   "source": [
    "cats=[\"CryoSleep\", \"Destination_TRAPPIST-1e\",\"Side_S\",\"Side_P\",'HomePlanet_Deck_Earth_E', 'HomePlanet_Deck_Earth_G',\n",
    "      'HomePlanet_Deck_Mars_E', 'spending_cluster', 'deck_ordinal', 'TotalSpendingBin_Low', 'TotalSpendingBin_Medium',\n",
    "       'TotalSpendingBin_High', 'TotalSpendingBin_VeryHigh', 'CryoXvp', 'CabinDeck_Side_AP', 'CabinDeck_Side_AS', 'CabinDeck_Side_BP',\n",
    "    'CabinDeck_Side_BS', 'CabinDeck_Side_CP', 'CabinDeck_Side_CS',\n",
    "    'CabinDeck_Side_DP', 'CabinDeck_Side_DS', 'CabinDeck_Side_EP',\n",
    "    'CabinDeck_Side_ES', 'CabinDeck_Side_FP', 'CabinDeck_Side_FS',\n",
    "    'CabinDeck_Side_GP', 'CabinDeck_Side_GS', 'CabinDeck_Side_TP',\n",
    "    'CabinDeck_Side_TS']\n",
    "\n",
    "conts=['logPctFC','logFare_LuxurySpender_GroupFreq_interaction', 'CryoSleep_Age_Interaction', 'logRSage', 'LogFare',\n",
    "       'logLuxurySpending', 'logBasicSpending', 'logTotalFamilySpending',\n",
    "       'logSpendingPerFamilyMember', 'logAge', 'Deck_Side_CryoRate']\n",
    "\n",
    "dep=\"Transported\""
   ]
  },
  {
   "cell_type": "markdown",
   "id": "27",
   "metadata": {
    "id": "VaZqLTyoeEbZ"
   },
   "source": [
    "### Categorical Features\n",
    "The following categorical features capture a range of passenger characteristics, from cabin location and home planet to their spending behavior:\n",
    "\n",
    "- **CryoSleep**: This feature indicates whether a passenger was in CryoSleep, which has shown a significant positive correlation with being transported.\n",
    "- **Destination_TRAPPIST-1e**: Passengers' destination, particularly TRAPPIST-1e, has been a notable feature in determining outcomes.\n",
    "- **Side_S & Side_P**: The side of the spaceship where a passenger's cabin is located (Port or Starboard) affects their likelihood of being transported.\n",
    "- **HomePlanet_Deck_Earth_E**, **HomePlanet_Deck_Earth_G**, **HomePlanet_Deck_Mars_E**: These combined features capture the interaction between home planets and the decks passengers were located on, which provides insights into spending patterns and survival likelihood.\n",
    "- **spending_cluster**: Grouping passengers based on their spending behavior into clusters has been an effective way of understanding different types of passengers, particularly low or luxury spenders.\n",
    "- **deck_ordinal**: The numerical ordinal of a passenger's deck gives information about their cabin's location, which correlates with their outcome.\n",
    "- **TotalSpendingBin_Low**, **TotalSpendingBin_Medium**, **TotalSpendingBin_High**, **TotalSpendingBin_VeryHigh**: These binned spending features classify passengers into low, medium, high, or very high total spending categories. Low spenders, for instance, have shown a higher correlation with being transported.\n",
    "- **CryoXvp**: An interaction term between CryoSleep and VIP status that adds more granularity to the survival odds for passengers who may have had different priorities due to VIP status.\n",
    "- **CabinDeck_Side_** combinations (e.g., **CabinDeck_Side_AP**, **CabinDeck_Side_AS**, etc.): These features capture the interaction between cabin decks and sides (Port/Starboard), which has been crucial in understanding the spatial dynamics of where passengers were located.\n",
    "\n",
    "### Continuous Features\n",
    "The continuous features reflect spending patterns, passenger demographics, and derived interactions that play an important role in transportation outcomes:\n",
    "\n",
    "- **logPctFC**: The log-transformed percentage of total spending attributed to the FoodCourt, which offers insights into passenger preferences for basic versus luxury amenities.\n",
    "- **logFare_LuxurySpender_GroupFreq_interaction**: This interaction term combines fare, luxury spending, and group frequency, which captures the unique dynamics of high-spending groups.\n",
    "- **CryoSleep_Age_Interaction**: One of the strongest features, this interaction between CryoSleep status and age has a substantial impact on the likelihood of being transported.\n",
    "- **logRSage**: The log-transformed room service spending normalized by age, which helps differentiate between young and old passengers' spending behaviors.\n",
    "- **LogFare**: The logarithm of the fare paid by passengers, a key indicator of socioeconomic status.\n",
    "- **logLuxurySpending**: A log-transformed measure of spending on luxury goods, which helps capture the behavior of high-spending passengers.\n",
    "- **logBasicSpending**: This feature reflects the log-transformed amount spent on basic amenities, important for understanding survival patterns in relation to passenger spending habits.\n",
    "- **logTotalFamilySpending**: Log-transformed family spending gives an aggregate view of how much entire families spent, revealing group dynamics.\n",
    "- **logSpendingPerFamilyMember**: This feature captures how spending was distributed per family member, which may impact their chances of survival.\n",
    "- **logAge**: The log-transformed age of passengers, providing a more normalized view of how age impacts transportation.\n",
    "- **Deck_Side_CryoRate**: This feature reflects the CryoSleep rates on different deck sides, which offers a spatial dimension to survival rates.\n",
    "\n",
    "### Target Variable\n",
    "- **Transported**: This is the dependent variable that we are aiming to predict—whether a passenger was transported or not.\n",
    "\n",
    "### Summary\n",
    "These features were carefully selected based on their strong correlations with the target variable **Transported** and their ability to capture complex interactions between demographics, spending behavior, cabin location, and CryoSleep status. By using both categorical and continuous features, I aim to maximize the predictive performance of the model, leveraging key insights from the dataset.\n"
   ]
  },
  {
   "cell_type": "markdown",
   "id": "28",
   "metadata": {
    "id": "lTdd9JJ2Oiby"
   },
   "source": [
    "### Define Feature and Target Extraction Function"
   ]
  },
  {
   "cell_type": "code",
   "execution_count": null,
   "id": "29",
   "metadata": {
    "executionInfo": {
     "elapsed": 255,
     "status": "ok",
     "timestamp": 1728419992007,
     "user": {
      "displayName": "Bashaar Dhoot",
      "userId": "04066267376811464441"
     },
     "user_tz": -60
    },
    "id": "292604b9-87d6-444a-b7e4-bd72cbf0f130"
   },
   "outputs": [],
   "source": [
    "from numpy import random\n",
    "from sklearn.model_selection import train_test_split\n",
    "\n",
    "random.seed(42)\n",
    "trn_df,val_df = train_test_split(df, test_size=0.25)"
   ]
  },
  {
   "cell_type": "code",
   "execution_count": null,
   "id": "30",
   "metadata": {
    "executionInfo": {
     "elapsed": 259,
     "status": "ok",
     "timestamp": 1728419994098,
     "user": {
      "displayName": "Bashaar Dhoot",
      "userId": "04066267376811464441"
     },
     "user_tz": -60
    },
    "id": "1342d21d-955b-40ee-8b79-58d779b147fd"
   },
   "outputs": [],
   "source": [
    "def xs_y(df):\n",
    "    xs = df[cats+conts].copy()\n",
    "    return xs,df[dep] if dep in df else None\n",
    "\n",
    "trn_xs,trn_y = xs_y(trn_df)\n",
    "val_xs,val_y = xs_y(val_df)"
   ]
  },
  {
   "cell_type": "code",
   "execution_count": null,
   "id": "31",
   "metadata": {
    "colab": {
     "base_uri": "https://localhost:8080/",
     "height": 226
    },
    "executionInfo": {
     "elapsed": 353,
     "status": "ok",
     "timestamp": 1728419998441,
     "user": {
      "displayName": "Bashaar Dhoot",
      "userId": "04066267376811464441"
     },
     "user_tz": -60
    },
    "id": "dyU4_tX37gBz",
    "outputId": "a0d2fb3e-acb4-472f-92c0-b3bf5e53e538"
   },
   "outputs": [],
   "source": [
    "trn_xs.head()"
   ]
  },
  {
   "cell_type": "markdown",
   "id": "32",
   "metadata": {
    "id": "4vztckUhO5YE"
   },
   "source": [
    "### Generate Predictions"
   ]
  },
  {
   "cell_type": "code",
   "execution_count": null,
   "id": "33",
   "metadata": {
    "executionInfo": {
     "elapsed": 588,
     "status": "ok",
     "timestamp": 1728420007580,
     "user": {
      "displayName": "Bashaar Dhoot",
      "userId": "04066267376811464441"
     },
     "user_tz": -60
    },
    "id": "75cf4dc6-304d-4177-8024-d9ee4f731e71"
   },
   "outputs": [],
   "source": [
    "preds = val_xs.CryoSleep==1"
   ]
  },
  {
   "cell_type": "markdown",
   "id": "34",
   "metadata": {
    "id": "NH9q6dL8PGWJ"
   },
   "source": [
    "### Calculate Mean Absolute Error"
   ]
  },
  {
   "cell_type": "code",
   "execution_count": null,
   "id": "35",
   "metadata": {
    "colab": {
     "base_uri": "https://localhost:8080/"
    },
    "executionInfo": {
     "elapsed": 4,
     "status": "ok",
     "timestamp": 1728420010219,
     "user": {
      "displayName": "Bashaar Dhoot",
      "userId": "04066267376811464441"
     },
     "user_tz": -60
    },
    "id": "d23a39b0-0022-4979-952a-b962846e2840",
    "outputId": "cf71b602-8521-4dfc-86f3-1a6a02b7c201"
   },
   "outputs": [],
   "source": [
    "from sklearn.metrics import mean_absolute_error\n",
    "mean_absolute_error(val_y, preds)"
   ]
  },
  {
   "cell_type": "markdown",
   "id": "36",
   "metadata": {
    "id": "0h0jjEVwS2Vj"
   },
   "source": [
    "### Data Visualization and Model Evaluation\n",
    "\n",
    "**Filter Data and Plot Visualizations**"
   ]
  },
  {
   "cell_type": "code",
   "execution_count": null,
   "id": "37",
   "metadata": {
    "colab": {
     "base_uri": "https://localhost:8080/",
     "height": 445
    },
    "executionInfo": {
     "elapsed": 759,
     "status": "ok",
     "timestamp": 1728420013477,
     "user": {
      "displayName": "Bashaar Dhoot",
      "userId": "04066267376811464441"
     },
     "user_tz": -60
    },
    "id": "2b845c1f-4fcb-4e03-845e-8b0ef210e366",
    "outputId": "4ea24e97-e86a-4166-a2c2-a975d44ced5e"
   },
   "outputs": [],
   "source": [
    "df_fare = trn_df[trn_df.logLuxurySpending>0]\n",
    "fig,axs = plt.subplots(1,2, figsize=(12,4))\n",
    "sns.boxenplot(data=df_fare, x=dep, y=\"logLuxurySpending\", ax=axs[0])\n",
    "sns.kdeplot(data=df_fare, x=\"logLuxurySpending\", ax=axs[1]);"
   ]
  },
  {
   "cell_type": "code",
   "execution_count": null,
   "id": "38",
   "metadata": {
    "executionInfo": {
     "elapsed": 253,
     "status": "ok",
     "timestamp": 1728420017576,
     "user": {
      "displayName": "Bashaar Dhoot",
      "userId": "04066267376811464441"
     },
     "user_tz": -60
    },
    "id": "8bce374e-2b7f-4bf3-b9c1-799d136fd0a9"
   },
   "outputs": [],
   "source": [
    "preds = val_xs.logLuxurySpending>11"
   ]
  },
  {
   "cell_type": "code",
   "execution_count": null,
   "id": "39",
   "metadata": {
    "colab": {
     "base_uri": "https://localhost:8080/"
    },
    "executionInfo": {
     "elapsed": 339,
     "status": "ok",
     "timestamp": 1728420019553,
     "user": {
      "displayName": "Bashaar Dhoot",
      "userId": "04066267376811464441"
     },
     "user_tz": -60
    },
    "id": "cff3aed5-eebc-4bd3-b35d-72696aa01128",
    "outputId": "5a27e6dc-bcf7-487a-c887-a65c2492f420"
   },
   "outputs": [],
   "source": [
    "mean_absolute_error(val_y, preds)"
   ]
  },
  {
   "cell_type": "markdown",
   "id": "40",
   "metadata": {
    "id": "FQUoqFTGXI5p"
   },
   "source": [
    "### Side Score and Scoring Function"
   ]
  },
  {
   "cell_type": "code",
   "execution_count": null,
   "id": "41",
   "metadata": {
    "executionInfo": {
     "elapsed": 297,
     "status": "ok",
     "timestamp": 1728414248210,
     "user": {
      "displayName": "Bashaar Dhoot",
      "userId": "04066267376811464441"
     },
     "user_tz": -60
    },
    "id": "1f7dd71a-d669-4e33-a674-8f671c7ed78e"
   },
   "outputs": [],
   "source": [
    "def _side_score(side, y):\n",
    "    tot = side.sum()\n",
    "    if tot<=1: return 0\n",
    "    return y[side].std()*tot"
   ]
  },
  {
   "cell_type": "code",
   "execution_count": null,
   "id": "42",
   "metadata": {
    "executionInfo": {
     "elapsed": 249,
     "status": "ok",
     "timestamp": 1728414251965,
     "user": {
      "displayName": "Bashaar Dhoot",
      "userId": "04066267376811464441"
     },
     "user_tz": -60
    },
    "id": "78247fef-fa3a-47f2-96ce-84c9a3c57c7c"
   },
   "outputs": [],
   "source": [
    "def score(col, y, split):\n",
    "    lhs = col<=split\n",
    "    return (_side_score(lhs,y) + _side_score(~lhs,y))/len(y)"
   ]
  },
  {
   "cell_type": "code",
   "execution_count": null,
   "id": "43",
   "metadata": {
    "colab": {
     "base_uri": "https://localhost:8080/"
    },
    "executionInfo": {
     "elapsed": 480,
     "status": "ok",
     "timestamp": 1728414254053,
     "user": {
      "displayName": "Bashaar Dhoot",
      "userId": "04066267376811464441"
     },
     "user_tz": -60
    },
    "id": "81170082-3a87-4863-8487-1228c613c57a",
    "outputId": "0d69678a-9f3b-4c22-a037-2c4253555223"
   },
   "outputs": [],
   "source": [
    "score(trn_xs[\"logBasicSpending\"], trn_y, 0.5)"
   ]
  },
  {
   "cell_type": "code",
   "execution_count": null,
   "id": "44",
   "metadata": {
    "colab": {
     "base_uri": "https://localhost:8080/"
    },
    "executionInfo": {
     "elapsed": 2447,
     "status": "ok",
     "timestamp": 1728414258792,
     "user": {
      "displayName": "Bashaar Dhoot",
      "userId": "04066267376811464441"
     },
     "user_tz": -60
    },
    "id": "f66f1583-b699-4674-8a07-5a5946582607",
    "outputId": "849cd086-32d8-4a3e-8d92-acf3724fc20c"
   },
   "outputs": [],
   "source": [
    "score(trn_xs[\"logLuxurySpending\"], trn_y, 2.7)"
   ]
  },
  {
   "cell_type": "markdown",
   "id": "45",
   "metadata": {
    "id": "lTIB1pAmqNDr"
   },
   "source": [
    "**Function Definition (`iscore`):**"
   ]
  },
  {
   "cell_type": "markdown",
   "id": "46",
   "metadata": {
    "id": "HfuHLKskqXNI"
   },
   "source": [
    "**Interactive Widgets with `ipywidgets`:**"
   ]
  },
  {
   "cell_type": "code",
   "execution_count": null,
   "id": "47",
   "metadata": {
    "colab": {
     "base_uri": "https://localhost:8080/",
     "height": 99,
     "referenced_widgets": [
      "1d76336bb9f445f6aaa95cb190b7db2c",
      "76fd6534b89c4a6eaae57c48817b1c23",
      "ad665f02fa6747a88a4acccf36dd53c5",
      "26599455ad0a418bad776f1eab970fa1",
      "6dbd8dbcd9314620807213c6269b13d8",
      "d2d4675f567f4626a9749dd4cb03d780",
      "8e64c916a95b44a7a94d755363de4d51",
      "11d13758f46249b18dbec29fd68f64d0",
      "3af0ebb1498b4a0f815cc26325addf52",
      "7e793f1a861f479ab30c3ed0c4190f8a"
     ]
    },
    "executionInfo": {
     "elapsed": 354,
     "status": "ok",
     "timestamp": 1728414262644,
     "user": {
      "displayName": "Bashaar Dhoot",
      "userId": "04066267376811464441"
     },
     "user_tz": -60
    },
    "id": "0a42f569-9539-49ff-8524-f1bef73873cf",
    "outputId": "63b48e6a-38dd-46ed-fc09-cda75a448a26"
   },
   "outputs": [],
   "source": [
    "def iscore(nm, split):\n",
    "    col = trn_xs[nm]\n",
    "    return score(col, trn_y, split)\n",
    "\n",
    "from ipywidgets import interact\n",
    "interact(nm=conts, split=15.5)(iscore);"
   ]
  },
  {
   "cell_type": "code",
   "execution_count": null,
   "id": "48",
   "metadata": {
    "colab": {
     "base_uri": "https://localhost:8080/",
     "height": 99,
     "referenced_widgets": [
      "671987a395114ba68c342b51326db9ae",
      "ff40ff1fea78449f9edb121f46fc8d06",
      "60f6a5c9ea714773b5c0b79ba3d175b6",
      "09fd9f4ed7d945408c6dc9564e297b19",
      "b8c704ef8a214c8e80f32d664184c380",
      "96b728aad7fc4cdb907702617730379f",
      "5a0524b4e07743e0af77e1575a72ba89",
      "f8dc0b6a8f9541e6ab0669f6568e68f0",
      "678e0e26fe20432ba405939771fe0ed7",
      "77a751163fcf4cec8152491f72f45fda"
     ]
    },
    "executionInfo": {
     "elapsed": 443,
     "status": "ok",
     "timestamp": 1728414267669,
     "user": {
      "displayName": "Bashaar Dhoot",
      "userId": "04066267376811464441"
     },
     "user_tz": -60
    },
    "id": "5613ede4-d1c9-4e7d-a694-fababaab8c0f",
    "outputId": "3fff9284-3bcd-4c12-a798-2356eae4dbd8"
   },
   "outputs": [],
   "source": [
    "interact(nm=cats, split=2)(iscore);"
   ]
  },
  {
   "cell_type": "markdown",
   "id": "49",
   "metadata": {
    "id": "MXgmZP9mqnWG"
   },
   "source": [
    "**Extracting Unique Values:**"
   ]
  },
  {
   "cell_type": "code",
   "execution_count": null,
   "id": "50",
   "metadata": {
    "colab": {
     "base_uri": "https://localhost:8080/"
    },
    "executionInfo": {
     "elapsed": 437,
     "status": "ok",
     "timestamp": 1728414270635,
     "user": {
      "displayName": "Bashaar Dhoot",
      "userId": "04066267376811464441"
     },
     "user_tz": -60
    },
    "id": "d5a5f486-a160-40b2-8a16-1adc74b0e460",
    "outputId": "6676cf2a-ee54-47f0-cab8-eaabe17e10e5"
   },
   "outputs": [],
   "source": [
    "nm = \"logLuxurySpending\"\n",
    "col = trn_xs[nm]\n",
    "unq = col.unique()\n",
    "unq.sort()\n",
    "unq"
   ]
  },
  {
   "cell_type": "markdown",
   "id": "51",
   "metadata": {
    "id": "rKiO3LhvroWe"
   },
   "source": [
    "### Calculating Scores and Extracting Minimum Value:"
   ]
  },
  {
   "cell_type": "code",
   "execution_count": null,
   "id": "52",
   "metadata": {
    "colab": {
     "base_uri": "https://localhost:8080/"
    },
    "executionInfo": {
     "elapsed": 1225,
     "status": "ok",
     "timestamp": 1728414275398,
     "user": {
      "displayName": "Bashaar Dhoot",
      "userId": "04066267376811464441"
     },
     "user_tz": -60
    },
    "id": "50bcd1a9-d34c-4259-b904-8afb596af758",
    "outputId": "6ea25c5e-481e-47a3-e034-6356626ea988"
   },
   "outputs": [],
   "source": [
    "scores = np.array([score(col, trn_y, o) for o in unq if not np.isnan(o)])\n",
    "unq[scores.argmin()]"
   ]
  },
  {
   "cell_type": "markdown",
   "id": "53",
   "metadata": {
    "id": "Z0jrH6Q8r06V"
   },
   "source": [
    "### Function `min_col`:"
   ]
  },
  {
   "cell_type": "code",
   "execution_count": null,
   "id": "54",
   "metadata": {
    "colab": {
     "base_uri": "https://localhost:8080/"
    },
    "executionInfo": {
     "elapsed": 3372,
     "status": "ok",
     "timestamp": 1728414281326,
     "user": {
      "displayName": "Bashaar Dhoot",
      "userId": "04066267376811464441"
     },
     "user_tz": -60
    },
    "id": "3a638920-8466-4934-b8dd-1c851ac15f98",
    "outputId": "be1c0cb7-1967-4348-cdb3-da01fb6514e8"
   },
   "outputs": [],
   "source": [
    "def min_col(df, nm):\n",
    "    col,y = df[nm],df[dep]\n",
    "    unq = col.dropna().unique()\n",
    "    scores = np.array([score(col, y, o) for o in unq if not np.isnan(o)])\n",
    "    idx = scores.argmin()\n",
    "    return unq[idx],scores[idx]\n",
    "\n",
    "min_col(trn_df, \"logLuxurySpending\")"
   ]
  },
  {
   "cell_type": "markdown",
   "id": "55",
   "metadata": {
    "id": "abvR9ILsr9Zd"
   },
   "source": [
    "### Applying `min_col` on Multiple Columns:"
   ]
  },
  {
   "cell_type": "code",
   "execution_count": null,
   "id": "56",
   "metadata": {
    "colab": {
     "base_uri": "https://localhost:8080/"
    },
    "executionInfo": {
     "elapsed": 10383,
     "status": "ok",
     "timestamp": 1728414294275,
     "user": {
      "displayName": "Bashaar Dhoot",
      "userId": "04066267376811464441"
     },
     "user_tz": -60
    },
    "id": "f8541a62-803b-45d4-af2c-faec251d2412",
    "outputId": "cfaf434d-9963-498e-88e9-c5250bae65a1"
   },
   "outputs": [],
   "source": [
    "cols = cats+conts\n",
    "{o:min_col(trn_df, o) for o in cols}"
   ]
  },
  {
   "cell_type": "markdown",
   "id": "57",
   "metadata": {
    "id": "4uCJssyasSfD"
   },
   "source": [
    "### Removing a Column and Splitting the Dataset:"
   ]
  },
  {
   "cell_type": "code",
   "execution_count": null,
   "id": "58",
   "metadata": {
    "executionInfo": {
     "elapsed": 487,
     "status": "ok",
     "timestamp": 1728414305186,
     "user": {
      "displayName": "Bashaar Dhoot",
      "userId": "04066267376811464441"
     },
     "user_tz": -60
    },
    "id": "dd6d0c82-962a-4050-b7a2-4f8e4ca19398"
   },
   "outputs": [],
   "source": [
    "cols.remove(\"HomePlanet_Deck_Mars_E\")\n",
    "isSleep = trn_df.HomePlanet_Deck_Mars_E==1\n",
    "sleep,noSleep = trn_df[isSleep],trn_df[~isSleep]"
   ]
  },
  {
   "cell_type": "markdown",
   "id": "59",
   "metadata": {
    "id": "9j_ywf5Osdla"
   },
   "source": [
    "### Applying `min_col` on Subsets:"
   ]
  },
  {
   "cell_type": "code",
   "execution_count": null,
   "id": "60",
   "metadata": {
    "colab": {
     "base_uri": "https://localhost:8080/"
    },
    "executionInfo": {
     "elapsed": 652,
     "status": "ok",
     "timestamp": 1728414308343,
     "user": {
      "displayName": "Bashaar Dhoot",
      "userId": "04066267376811464441"
     },
     "user_tz": -60
    },
    "id": "6ee3272e-0367-4bce-a509-35cc66c7e417",
    "outputId": "d01e104c-1297-4517-efb5-08f357c2d98c"
   },
   "outputs": [],
   "source": [
    "{o:min_col(sleep, o) for o in cols}"
   ]
  },
  {
   "cell_type": "code",
   "execution_count": null,
   "id": "61",
   "metadata": {
    "colab": {
     "base_uri": "https://localhost:8080/"
    },
    "executionInfo": {
     "elapsed": 9186,
     "status": "ok",
     "timestamp": 1728414320149,
     "user": {
      "displayName": "Bashaar Dhoot",
      "userId": "04066267376811464441"
     },
     "user_tz": -60
    },
    "id": "439343e3-6f37-4b83-9654-838c6bee0c3f",
    "outputId": "887e60fe-7d90-4fd7-ddd5-e0324e298211"
   },
   "outputs": [],
   "source": [
    "{o:min_col(noSleep, o) for o in cols}"
   ]
  },
  {
   "cell_type": "markdown",
   "id": "62",
   "metadata": {
    "id": "E_AK9umcYNag"
   },
   "source": [
    "# Fit a Decision Tree model with a maximum of 4 leaf nodes"
   ]
  },
  {
   "cell_type": "code",
   "execution_count": null,
   "id": "63",
   "metadata": {
    "executionInfo": {
     "elapsed": 304,
     "status": "ok",
     "timestamp": 1728420024287,
     "user": {
      "displayName": "Bashaar Dhoot",
      "userId": "04066267376811464441"
     },
     "user_tz": -60
    },
    "id": "52f92b9d-02eb-4e28-967d-169fe6042788"
   },
   "outputs": [],
   "source": [
    "from sklearn.tree import DecisionTreeClassifier, export_graphviz\n",
    "\n",
    "m = DecisionTreeClassifier(max_leaf_nodes=4).fit(trn_xs, trn_y);"
   ]
  },
  {
   "cell_type": "code",
   "execution_count": null,
   "id": "64",
   "metadata": {
    "executionInfo": {
     "elapsed": 248,
     "status": "ok",
     "timestamp": 1728420027003,
     "user": {
      "displayName": "Bashaar Dhoot",
      "userId": "04066267376811464441"
     },
     "user_tz": -60
    },
    "id": "5645002f-0e92-46cc-916e-75b8f9c482ee"
   },
   "outputs": [],
   "source": [
    "import graphviz\n",
    "\n",
    "def draw_tree(t, df, size=10, ratio=0.6, precision=2, **kwargs):\n",
    "    s=export_graphviz(t, out_file=None, feature_names=df.columns, filled=True, rounded=True,\n",
    "                      special_characters=True, rotate=False, precision=precision, **kwargs)\n",
    "    return graphviz.Source(re.sub('Tree {', f'Tree {{ size={size}; ratio={ratio}', s))\n"
   ]
  },
  {
   "cell_type": "code",
   "execution_count": null,
   "id": "65",
   "metadata": {
    "colab": {
     "base_uri": "https://localhost:8080/",
     "height": 509
    },
    "executionInfo": {
     "elapsed": 1590,
     "status": "ok",
     "timestamp": 1728420030437,
     "user": {
      "displayName": "Bashaar Dhoot",
      "userId": "04066267376811464441"
     },
     "user_tz": -60
    },
    "id": "03dadb16-a295-49e9-b7ed-b8ef6a8d372b",
    "outputId": "daa6ed63-722a-4f8f-c809-6ebb7e2b377a"
   },
   "outputs": [],
   "source": [
    "draw_tree(m, trn_xs, size=10)"
   ]
  },
  {
   "cell_type": "code",
   "execution_count": null,
   "id": "66",
   "metadata": {
    "executionInfo": {
     "elapsed": 260,
     "status": "ok",
     "timestamp": 1728420033943,
     "user": {
      "displayName": "Bashaar Dhoot",
      "userId": "04066267376811464441"
     },
     "user_tz": -60
    },
    "id": "5103a702-b429-429c-bdfe-a044a7b474f4"
   },
   "outputs": [],
   "source": [
    "def gini(cond):\n",
    "    act = df.loc[cond, dep]\n",
    "    return 1 - act.mean()**2 - (1-act).mean()**2"
   ]
  },
  {
   "cell_type": "code",
   "execution_count": null,
   "id": "67",
   "metadata": {
    "colab": {
     "base_uri": "https://localhost:8080/"
    },
    "executionInfo": {
     "elapsed": 333,
     "status": "ok",
     "timestamp": 1728420035785,
     "user": {
      "displayName": "Bashaar Dhoot",
      "userId": "04066267376811464441"
     },
     "user_tz": -60
    },
    "id": "260bc2b4-a0ca-4cf3-806c-414258ce8f55",
    "outputId": "65856aad-b645-4c49-91a3-f6f3565057d8"
   },
   "outputs": [],
   "source": [
    "gini(df.HomePlanet_Deck_Earth_G=='noPay'), gini(df.HomePlanet_Deck_Earth_G=='pay')"
   ]
  },
  {
   "cell_type": "markdown",
   "id": "68",
   "metadata": {
    "id": "uNe_KPWk1FWZ"
   },
   "source": [
    "### Calculating Mean Absolute Error:"
   ]
  },
  {
   "cell_type": "code",
   "execution_count": null,
   "id": "69",
   "metadata": {
    "colab": {
     "base_uri": "https://localhost:8080/"
    },
    "executionInfo": {
     "elapsed": 364,
     "status": "ok",
     "timestamp": 1728420038274,
     "user": {
      "displayName": "Bashaar Dhoot",
      "userId": "04066267376811464441"
     },
     "user_tz": -60
    },
    "id": "b0a6d27d-8720-4f93-80dc-32d192b7960e",
    "outputId": "b1a92804-b512-43b9-b0c5-d71d0af354b7"
   },
   "outputs": [],
   "source": [
    "mean_absolute_error(val_y, m.predict(val_xs))"
   ]
  },
  {
   "cell_type": "markdown",
   "id": "70",
   "metadata": {
    "id": "khqqfaDu819b"
   },
   "source": [
    "### Decision Tree Model Training and Evaluation\n",
    "\n",
    "- `m = DecisionTreeClassifier(min_samples_leaf=50)`: Creates a decision tree classifier object with a minimum of 50 samples required to be at a leaf node. This helps prevent overfitting and creates a more generalized model.\n"
   ]
  },
  {
   "cell_type": "code",
   "execution_count": null,
   "id": "71",
   "metadata": {
    "colab": {
     "base_uri": "https://localhost:8080/",
     "height": 714
    },
    "executionInfo": {
     "elapsed": 1589,
     "status": "ok",
     "timestamp": 1728420043442,
     "user": {
      "displayName": "Bashaar Dhoot",
      "userId": "04066267376811464441"
     },
     "user_tz": -60
    },
    "id": "b6684db0-9579-40da-86c3-0cb61d2543af",
    "outputId": "11102d78-5c48-4ebe-abae-b994e18ce6dc"
   },
   "outputs": [],
   "source": [
    "m = DecisionTreeClassifier(min_samples_leaf=50)\n",
    "m.fit(trn_xs, trn_y)\n",
    "draw_tree(m, trn_xs, size=12)"
   ]
  },
  {
   "cell_type": "code",
   "execution_count": null,
   "id": "72",
   "metadata": {
    "colab": {
     "base_uri": "https://localhost:8080/"
    },
    "executionInfo": {
     "elapsed": 394,
     "status": "ok",
     "timestamp": 1728420049685,
     "user": {
      "displayName": "Bashaar Dhoot",
      "userId": "04066267376811464441"
     },
     "user_tz": -60
    },
    "id": "ba04e930-2bf7-4ab5-8c7c-a0f7c4218679",
    "outputId": "33e8492f-20f0-4844-fe4e-6c163ceb84a1"
   },
   "outputs": [],
   "source": [
    "mean_absolute_error(val_y, m.predict(val_xs))"
   ]
  },
  {
   "cell_type": "markdown",
   "id": "73",
   "metadata": {
    "id": "nfEVYfTj9QEL"
   },
   "source": [
    "### Generate and Save Predictions"
   ]
  },
  {
   "cell_type": "code",
   "execution_count": null,
   "id": "74",
   "metadata": {
    "executionInfo": {
     "elapsed": 567,
     "status": "ok",
     "timestamp": 1728420052490,
     "user": {
      "displayName": "Bashaar Dhoot",
      "userId": "04066267376811464441"
     },
     "user_tz": -60
    },
    "id": "5ff682eb-6b80-45ea-bfce-021ee1e5900d"
   },
   "outputs": [],
   "source": [
    "tst_xs,_ = xs_y(tst_df)\n",
    "\n",
    "def subm(preds, suff):\n",
    "    tst_df['Transported'] = preds\n",
    "    sub_df = tst_df[['PassengerId','Transported']]\n",
    "    sub_df.to_csv(f'sub-{suff}.csv', index=False)\n",
    "\n",
    "subm(m.predict(tst_xs), 'tree')"
   ]
  },
  {
   "cell_type": "code",
   "execution_count": null,
   "id": "75",
   "metadata": {
    "executionInfo": {
     "elapsed": 1948,
     "status": "ok",
     "timestamp": 1728420056372,
     "user": {
      "displayName": "Bashaar Dhoot",
      "userId": "04066267376811464441"
     },
     "user_tz": -60
    },
    "id": "7bc7f548-7624-4713-be41-da5e717f23bb"
   },
   "outputs": [],
   "source": [
    "sub_df = pd.read_csv('sub-tree.csv')"
   ]
  },
  {
   "cell_type": "code",
   "execution_count": null,
   "id": "76",
   "metadata": {
    "executionInfo": {
     "elapsed": 257,
     "status": "ok",
     "timestamp": 1728420058462,
     "user": {
      "displayName": "Bashaar Dhoot",
      "userId": "04066267376811464441"
     },
     "user_tz": -60
    },
    "id": "0f0aac64-aab8-43a2-86f8-2aea19931376"
   },
   "outputs": [],
   "source": [
    "sub_df['Transported'] = sub_df['Transported'].astype(bool)"
   ]
  },
  {
   "cell_type": "code",
   "execution_count": null,
   "id": "77",
   "metadata": {
    "colab": {
     "base_uri": "https://localhost:8080/",
     "height": 206
    },
    "executionInfo": {
     "elapsed": 352,
     "status": "ok",
     "timestamp": 1728420060705,
     "user": {
      "displayName": "Bashaar Dhoot",
      "userId": "04066267376811464441"
     },
     "user_tz": -60
    },
    "id": "4d6f7567-060d-4744-9d01-24a6bd4f188b",
    "outputId": "78b3da57-f88b-4159-aea8-0011e4b7647c"
   },
   "outputs": [],
   "source": [
    "sub_df.head()"
   ]
  },
  {
   "cell_type": "code",
   "execution_count": null,
   "id": "78",
   "metadata": {
    "executionInfo": {
     "elapsed": 300,
     "status": "ok",
     "timestamp": 1728420065911,
     "user": {
      "displayName": "Bashaar Dhoot",
      "userId": "04066267376811464441"
     },
     "user_tz": -60
    },
    "id": "681c8128-6b93-49d5-84a9-461be781c05c"
   },
   "outputs": [],
   "source": [
    "sub_df.to_csv('subTree.csv', index=False)"
   ]
  },
  {
   "cell_type": "markdown",
   "id": "79",
   "metadata": {
    "id": "Zcgk-JDUSCbo"
   },
   "source": [
    "### The Random Forest"
   ]
  },
  {
   "cell_type": "markdown",
   "id": "80",
   "metadata": {
    "id": "Cn2pgt1i9mZR"
   },
   "source": [
    "### Building a Basic Ensemble of Decision Trees"
   ]
  },
  {
   "cell_type": "code",
   "execution_count": null,
   "id": "81",
   "metadata": {
    "executionInfo": {
     "elapsed": 330,
     "status": "ok",
     "timestamp": 1728420070401,
     "user": {
      "displayName": "Bashaar Dhoot",
      "userId": "04066267376811464441"
     },
     "user_tz": -60
    },
    "id": "0e630d57-17da-4407-a0f0-1c6c86a8ce05"
   },
   "outputs": [],
   "source": [
    "def get_tree(prop=0.75):\n",
    "    n = len(trn_y)\n",
    "    idxs = random.choice(n, int(n*prop))\n",
    "    return DecisionTreeClassifier(min_samples_leaf=5).fit(trn_xs.iloc[idxs], trn_y.iloc[idxs])"
   ]
  },
  {
   "cell_type": "code",
   "execution_count": null,
   "id": "82",
   "metadata": {
    "executionInfo": {
     "elapsed": 4713,
     "status": "ok",
     "timestamp": 1728420076678,
     "user": {
      "displayName": "Bashaar Dhoot",
      "userId": "04066267376811464441"
     },
     "user_tz": -60
    },
    "id": "9697e1dc-4eb3-4bde-b2eb-528ecd1027e8"
   },
   "outputs": [],
   "source": [
    "trees = [get_tree() for t in range(100)]"
   ]
  },
  {
   "cell_type": "code",
   "execution_count": null,
   "id": "83",
   "metadata": {
    "colab": {
     "base_uri": "https://localhost:8080/"
    },
    "executionInfo": {
     "elapsed": 518,
     "status": "ok",
     "timestamp": 1728420078781,
     "user": {
      "displayName": "Bashaar Dhoot",
      "userId": "04066267376811464441"
     },
     "user_tz": -60
    },
    "id": "70b370e5-f4c5-4d81-87e4-50f2c2269626",
    "outputId": "1bc63402-716d-41cf-b630-3ba852299fe0"
   },
   "outputs": [],
   "source": [
    "all_probs = [t.predict(val_xs) for t in trees]\n",
    "avg_probs = np.stack(all_probs).mean(0)\n",
    "\n",
    "mean_absolute_error(val_y, avg_probs)"
   ]
  },
  {
   "cell_type": "markdown",
   "id": "84",
   "metadata": {
    "id": "BttfTZIy943R"
   },
   "source": [
    "### Random Forest Classifier"
   ]
  },
  {
   "cell_type": "markdown",
   "id": "85",
   "metadata": {
    "id": "ZvHiUyBQfd8N"
   },
   "source": [
    "### Hyperparameter Tuning with Random Forest\n",
    "\n",
    "In an effort to improve model performance, I applied **GridSearchCV** to optimize the hyperparameters of a Random Forest classifier. Random Forests are ensemble models that use multiple decision trees to provide more accurate predictions. However, their performance can be sensitive to hyperparameters like the number of trees (estimators), maximum tree depth, and minimum samples required to split a node.\n",
    "\n",
    "The code snippet below demonstrates how I used **GridSearchCV** to find the best set of hyperparameters:"
   ]
  },
  {
   "cell_type": "code",
   "execution_count": null,
   "id": "86",
   "metadata": {
    "colab": {
     "base_uri": "https://localhost:8080/"
    },
    "executionInfo": {
     "elapsed": 483944,
     "status": "ok",
     "timestamp": 1728420566661,
     "user": {
      "displayName": "Bashaar Dhoot",
      "userId": "04066267376811464441"
     },
     "user_tz": -60
    },
    "id": "qKr64K-yLwkL",
    "outputId": "3ef1d5f3-17f6-4909-dbf7-677ea1ed4465"
   },
   "outputs": [],
   "source": [
    "from sklearn.ensemble import RandomForestClassifier\n",
    "from sklearn.model_selection import GridSearchCV\n",
    "\n",
    "# Example of using GridSearchCV to find better hyperparameters\n",
    "param_grid = {\n",
    "    'n_estimators': [100, 200, 300, 500],\n",
    "    'max_depth': [None, 10, 20, 30],\n",
    "    'min_samples_split': [2, 5, 10],\n",
    "}\n",
    "rf = RandomForestClassifier(random_state=123)\n",
    "grid_search = GridSearchCV(estimator=rf, param_grid=param_grid, cv=5) # 5-fold cross-validation\n",
    "grid_search.fit(trn_xs, trn_y)\n",
    "\n",
    "best_rf = grid_search.best_estimator_\n",
    "print(mean_absolute_error(val_y, best_rf.predict(val_xs)))\n",
    "print(grid_search.best_params_)"
   ]
  },
  {
   "cell_type": "markdown",
   "id": "87",
   "metadata": {
    "id": "wXld05nDgEEK"
   },
   "source": [
    "Model Performance:\n",
    "\n",
    "With these optimized hyperparameters, the Random Forest model achieved a mean absolute error (MAE) of 0.19687 on the validation set, representing a notable improvement over the initial decision tree model."
   ]
  },
  {
   "cell_type": "code",
   "execution_count": null,
   "id": "88",
   "metadata": {
    "executionInfo": {
     "elapsed": 401,
     "status": "ok",
     "timestamp": 1728422592631,
     "user": {
      "displayName": "Bashaar Dhoot",
      "userId": "04066267376811464441"
     },
     "user_tz": -60
    },
    "id": "a8c07199-6f73-4097-8d87-ee413be0be6a"
   },
   "outputs": [],
   "source": [
    "subm(best_rf.predict(tst_xs), 'rf')"
   ]
  },
  {
   "cell_type": "code",
   "execution_count": null,
   "id": "89",
   "metadata": {
    "executionInfo": {
     "elapsed": 400,
     "status": "ok",
     "timestamp": 1728422594733,
     "user": {
      "displayName": "Bashaar Dhoot",
      "userId": "04066267376811464441"
     },
     "user_tz": -60
    },
    "id": "87849b31-34ca-48b1-89d3-3cdb7fef4ac1"
   },
   "outputs": [],
   "source": [
    "rfdf = pd.read_csv('sub-rf.csv')"
   ]
  },
  {
   "cell_type": "code",
   "execution_count": null,
   "id": "90",
   "metadata": {
    "executionInfo": {
     "elapsed": 526,
     "status": "ok",
     "timestamp": 1728422602913,
     "user": {
      "displayName": "Bashaar Dhoot",
      "userId": "04066267376811464441"
     },
     "user_tz": -60
    },
    "id": "cb61e3a9-4908-4cc3-a0ff-edaddfe0eecf"
   },
   "outputs": [],
   "source": [
    "rfdf['Transported'] = rfdf['Transported'].astype(bool)"
   ]
  },
  {
   "cell_type": "code",
   "execution_count": null,
   "id": "91",
   "metadata": {
    "executionInfo": {
     "elapsed": 388,
     "status": "ok",
     "timestamp": 1728422604685,
     "user": {
      "displayName": "Bashaar Dhoot",
      "userId": "04066267376811464441"
     },
     "user_tz": -60
    },
    "id": "0e17f98e-aa0b-42b8-a5b4-9db6b5fa27cd"
   },
   "outputs": [],
   "source": [
    "rfdf.to_csv('subrf.csv', index=False)"
   ]
  },
  {
   "cell_type": "code",
   "execution_count": null,
   "id": "92",
   "metadata": {
    "colab": {
     "base_uri": "https://localhost:8080/",
     "height": 431
    },
    "executionInfo": {
     "elapsed": 865,
     "status": "ok",
     "timestamp": 1728422606988,
     "user": {
      "displayName": "Bashaar Dhoot",
      "userId": "04066267376811464441"
     },
     "user_tz": -60
    },
    "id": "60f6c1c4-8a96-466f-9dbc-38b25c5adedb",
    "outputId": "f69225d4-1327-4002-c9f8-cc78542ae753"
   },
   "outputs": [],
   "source": [
    "pd.DataFrame(dict(cols=trn_xs.columns, imp=m.feature_importances_)).plot('cols', 'imp', 'barh');"
   ]
  },
  {
   "cell_type": "markdown",
   "id": "93",
   "metadata": {
    "id": "sip9-TTISAZb"
   },
   "source": [
    "# Hyperparameter Tuning (More extensive grid or randomized search)"
   ]
  },
  {
   "cell_type": "markdown",
   "id": "94",
   "metadata": {
    "id": "0MdEm6p8fqZl"
   },
   "source": [
    "\n",
    "\n",
    "*  Randomized Search: This can be faster than grid search and explore a larger parameter space.\n",
    "*   Bayesian Optimization: Libraries like Optuna or Scikit-Optimize can intelligently search the hyperparameter space, possibly improving results with fewer trials.\n",
    "\n"
   ]
  },
  {
   "cell_type": "code",
   "execution_count": null,
   "id": "95",
   "metadata": {
    "colab": {
     "base_uri": "https://localhost:8080/"
    },
    "executionInfo": {
     "elapsed": 1920235,
     "status": "ok",
     "timestamp": 1728422524355,
     "user": {
      "displayName": "Bashaar Dhoot",
      "userId": "04066267376811464441"
     },
     "user_tz": -60
    },
    "id": "u6DDHZzXSJ4z",
    "outputId": "0391ad5b-d32f-4a71-cd4a-08c590ee3867"
   },
   "outputs": [],
   "source": [
    "from sklearn.model_selection import RandomizedSearchCV\n",
    "from scipy.stats import randint\n",
    "\n",
    "param_dist = {\n",
    "    'n_estimators': randint(100, 1000),\n",
    "    'max_depth': randint(5, 50),\n",
    "    'min_samples_leaf': randint(1, 10)\n",
    "}\n",
    "random_search = RandomizedSearchCV(estimator=rf, param_distributions=param_dist, n_iter=100, cv=5)\n",
    "random_search.fit(trn_xs, trn_y)\n",
    "\n",
    "print(\"Best parameters found: \", random_search.best_params_)\n",
    "best_rf = random_search.best_estimator_\n",
    "print(mean_absolute_error(val_y, best_rf.predict(val_xs)))"
   ]
  },
  {
   "cell_type": "markdown",
   "id": "96",
   "metadata": {
    "id": "OzMwtm6zfWj8"
   },
   "source": [
    "# Ensemble Methods\n",
    "\n",
    "*   Stacking Models: Combine predictions from multiple models like Random Forest, XGBoost, and Logistic Regression using a meta-model (like Logistic Regression).\n",
    "\n",
    "\n"
   ]
  },
  {
   "cell_type": "code",
   "execution_count": null,
   "id": "97",
   "metadata": {
    "colab": {
     "base_uri": "https://localhost:8080/"
    },
    "executionInfo": {
     "elapsed": 2397,
     "status": "ok",
     "timestamp": 1728422618756,
     "user": {
      "displayName": "Bashaar Dhoot",
      "userId": "04066267376811464441"
     },
     "user_tz": -60
    },
    "id": "LuvAMrfUgAEm",
    "outputId": "c548e3d7-8e54-4229-85c4-04effcf7e39d"
   },
   "outputs": [],
   "source": [
    "from mlxtend.classifier import StackingClassifier\n",
    "from sklearn.linear_model import LogisticRegression\n",
    "from sklearn.ensemble import RandomForestClassifier\n",
    "from xgboost import XGBClassifier\n",
    "\n",
    "clf1 = RandomForestClassifier(random_state=123)\n",
    "clf2 = XGBClassifier(random_state=123)\n",
    "meta_clf = LogisticRegression()\n",
    "\n",
    "sclf = StackingClassifier(classifiers=[clf1, clf2], meta_classifier=meta_clf)\n",
    "sclf.fit(trn_xs, trn_y)\n",
    "\n",
    "val_preds = sclf.predict(val_xs)\n",
    "mae = mean_absolute_error(val_y, val_preds)\n",
    "print(f\"Mean Absolute Error of Stacking Classifier: {mae}\")"
   ]
  },
  {
   "cell_type": "markdown",
   "id": "98",
   "metadata": {
    "id": "yHuxDEpsgjRH"
   },
   "source": [
    "#Use of Different Models:\n",
    "\n",
    "\n",
    "\n",
    "*   XGBoost/LightGBM/CatBoost: These models often outperform Random Forests on structured/tabular data. Since you've used Random Forest, trying one of these gradient-boosting algorithms may give a better result.\n",
    "\n"
   ]
  },
  {
   "cell_type": "code",
   "execution_count": null,
   "id": "99",
   "metadata": {
    "colab": {
     "base_uri": "https://localhost:8080/"
    },
    "executionInfo": {
     "elapsed": 374,
     "status": "ok",
     "timestamp": 1728422677980,
     "user": {
      "displayName": "Bashaar Dhoot",
      "userId": "04066267376811464441"
     },
     "user_tz": -60
    },
    "id": "4aeiKR82giWH",
    "outputId": "b9675879-a210-4724-9861-ac1a1d287d4a"
   },
   "outputs": [],
   "source": [
    "from xgboost import XGBClassifier\n",
    "xgb = XGBClassifier(random_state=123)\n",
    "xgb.fit(trn_xs, trn_y)\n",
    "print(mean_absolute_error(val_y, xgb.predict(val_xs)))"
   ]
  },
  {
   "cell_type": "markdown",
   "id": "100",
   "metadata": {
    "id": "MA47EO0Jg8NH"
   },
   "source": [
    "## Conclusion\n",
    "\n",
    "In this notebook, various machine learning models and tuning techniques were explored to predict the \"Transported\" outcome in the Spaceship Titanic dataset. A series of experiments with hyperparameter tuning and model comparisons led to the following insights:\n",
    "\n",
    "- **Decision Tree**: The basic Decision Tree model achieved a score of **0.2157**, serving as a baseline for further improvements.\n",
    "- **Randomized Search**: By applying Randomized Search for hyperparameter tuning, a score of **0.2001** was obtained, showing significant improvement over the initial Decision Tree.\n",
    "- **Ensemble Methods**: Using ensemble methods, a similar score of **0.2006** was achieved, further validating the benefit of combining multiple models.\n",
    "- **XGBoost**: With XGBoost, the model reached a score of **0.2074**, performing better than the decision tree but not outperforming Randomized Search and ensemble methods.\n",
    "\n",
    "However, the **Random Forest** model, tuned using GridSearchCV, outperformed all other approaches with a mean absolute error of **0.19687**. This improvement highlights the effectiveness of Random Forest for this particular classification problem. The model's ability to handle large feature sets and automatically correct for overfitting through techniques like bagging and random feature selection was crucial in achieving this performance.\n",
    "\n",
    "The best hyperparameters for the Random Forest model were:\n",
    "```python\n",
    "{'max_depth': None, 'min_samples_split': 10, 'n_estimators': 500}"
   ]
  },
  {
   "cell_type": "markdown",
   "id": "101",
   "metadata": {
    "id": "USQFb_rLhPET"
   },
   "source": [
    "![Screenshot 2024-10-09 at 08.48.42.png](data:image/png;base64,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)"
   ]
  }
 ],
 "metadata": {
  "accelerator": "GPU",
  "colab": {
   "collapsed_sections": [
    "GI2JSxxeE_JK",
    "4vztckUhO5YE",
    "0h0jjEVwS2Vj",
    "FQUoqFTGXI5p",
    "rKiO3LhvroWe",
    "Z0jrH6Q8r06V",
    "abvR9ILsr9Zd",
    "4uCJssyasSfD",
    "9j_ywf5Osdla"
   ],
   "gpuType": "T4",
   "provenance": [
    {
     "file_id": "1goi0dODggFNGzgapmo-wcz2mHlwMFZlD",
     "timestamp": 1727972540087
    }
   ]
  },
  "kernelspec": {
   "display_name": "Python 3 (ipykernel)",
   "language": "python",
   "name": "python3"
  },
  "language_info": {
   "codemirror_mode": {
    "name": "ipython",
    "version": 3
   },
   "file_extension": ".py",
   "mimetype": "text/x-python",
   "name": "python",
   "nbconvert_exporter": "python",
   "pygments_lexer": "ipython3",
   "version": "3.13.3"
  }
 },
 "nbformat": 4,
 "nbformat_minor": 5
}
